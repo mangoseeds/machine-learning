{
  "cells": [
    {
      "cell_type": "markdown",
      "metadata": {
        "id": "view-in-github",
        "colab_type": "text"
      },
      "source": [
        "<a href=\"https://colab.research.google.com/github/mangoseeds/machine-learning/blob/main/5_Support%20Vector%20Machines.ipynb\" target=\"_parent\"><img src=\"https://colab.research.google.com/assets/colab-badge.svg\" alt=\"Open In Colab\"/></a>"
      ]
    },
    {
      "cell_type": "markdown",
      "metadata": {
        "id": "g63soNOvFUSa"
      },
      "source": [
        "# 서포트 벡터 머신(Support Vector Machines)"
      ]
    },
    {
      "cell_type": "markdown",
      "metadata": {
        "id": "Rrbp02Mk5CDA"
      },
      "source": [
        "* 회귀, 분류, 이상치 탐지 등에 사용되는 지도학습 방법\n",
        "* 클래스 사이의 경계에 위치한 데이터 포인트를 서포트 벡터(support vector)라고 함\n",
        "* 각 지지 벡터가 클래스 사이의 결정 경계를 구분하는데 얼마나 중요한지를 학습\n",
        "* 각 지지 벡터 사이의 마진이 가장 큰 방향으로 학습\n",
        "* 지지 벡터 까지의 거리와 지지 벡터의 중요도를 기반으로 예측을 수행\n",
        "\n",
        "![support vector machine](https://upload.wikimedia.org/wikipedia/commons/thumb/2/20/Svm_separating_hyperplanes.png/220px-Svm_separating_hyperplanes.png)\n",
        "\n",
        "* H3은 두 클래스의 점들을 제대로 분류하고 있지 않음\n",
        "* H1과 H2는 두 클래스의 점들을 분류하는데, H2가 H1보다 더 큰 마진을 갖고 분류하는 것을 확인할 수 있음"
      ]
    },
    {
      "cell_type": "code",
      "execution_count": 7,
      "metadata": {
        "id": "zBilnkAn4_U3"
      },
      "outputs": [],
      "source": [
        "import multiprocessing\n",
        "import pandas as pd\n",
        "import numpy as np\n",
        "import matplotlib.pyplot as plt\n",
        "plt.style.use(['seaborn-whitegrid'])"
      ]
    },
    {
      "cell_type": "code",
      "execution_count": 8,
      "metadata": {
        "id": "1YRJRPy6hTe0"
      },
      "outputs": [],
      "source": [
        "from sklearn.svm import SVR, SVC\n",
        "from sklearn.datasets import fetch_california_housing, load_diabetes\n",
        "from sklearn.datasets import load_breast_cancer, load_iris, load_wine\n",
        "from sklearn.pipeline import make_pipeline, Pipeline\n",
        "from sklearn.model_selection import train_test_split, cross_validate, GridSearchCV\n",
        "from sklearn.preprocessing import StandardScaler, MinMaxScaler\n",
        "from sklearn.manifold import TSNE"
      ]
    },
    {
      "cell_type": "markdown",
      "metadata": {
        "id": "UxS0mPsCh4l0"
      },
      "source": [
        "## SVM을 이용한 회귀 모델과 분류 모델"
      ]
    },
    {
      "cell_type": "markdown",
      "metadata": {
        "id": "NTtcx3p8wtNX"
      },
      "source": [
        "### SVM을 사용한 회귀 모델 (SVR)"
      ]
    },
    {
      "cell_type": "code",
      "execution_count": 9,
      "metadata": {
        "id": "sCrhSrMf5BqB"
      },
      "outputs": [],
      "source": [
        "# X, y = fetch_california_housing(return_X_y = True)\n",
        "# X_train, X_test, y_train, y_test = train_test_split(X, y, random_state = 123)\n",
        "\n",
        "# model = SVR()\n",
        "# model.fit(X_train, y_train)\n",
        "\n",
        "# print(\"학습 데이터 점수: {}\".format(model.score(X_train, y_train)))\n",
        "# print(\"평가 데이터 점수: {}\".format(model.score(X_test, y_test)))"
      ]
    },
    {
      "cell_type": "markdown",
      "metadata": {
        "id": "CQraX6MzwvtE"
      },
      "source": [
        "### SVM을 사용한 분류 모델 (SVC)"
      ]
    },
    {
      "cell_type": "code",
      "execution_count": 10,
      "metadata": {
        "colab": {
          "base_uri": "https://localhost:8080/"
        },
        "id": "bnh5fS8gFbtK",
        "outputId": "0edf3552-0db1-4975-965e-085e107a6585"
      },
      "outputs": [
        {
          "output_type": "stream",
          "name": "stdout",
          "text": [
            "학습 데이터 점수: 0.9014084507042254\n",
            "평가 데이터 점수: 0.9230769230769231\n"
          ]
        }
      ],
      "source": [
        "X, y = load_breast_cancer(return_X_y = True)\n",
        "X_train, X_test, y_train, y_test = train_test_split(X, y, random_state = 123)\n",
        "\n",
        "model = SVC()\n",
        "model.fit(X_train, y_train)\n",
        "\n",
        "print(\"학습 데이터 점수: {}\".format(model.score(X_train, y_train)))\n",
        "print(\"평가 데이터 점수: {}\".format(model.score(X_test, y_test)))"
      ]
    },
    {
      "cell_type": "markdown",
      "metadata": {
        "id": "zgd_dvKrGeFh"
      },
      "source": [
        "## 커널 기법\n",
        "\n",
        "* 입력 데이터를 고차원 공간에 사상해서 비선형 특징을 학습할 수 있도록 확장하는 방법\n",
        "* scikit-learn에서는 Linear, Polynomial, RBF(Radial Basis Function)등 다양한 커널 기법을 지원\n",
        "\n",
        "![kernel trick](https://scikit-learn.org/stable/_images/sphx_glr_plot_iris_svc_0011.png)"
      ]
    },
    {
      "cell_type": "code",
      "execution_count": 11,
      "metadata": {
        "id": "Azq1UJtZF8sU"
      },
      "outputs": [],
      "source": [
        "# X, y = fetch_california_housing(return_X_y = True)\n",
        "# X_train, X_test, y_train, y_test = train_test_split(X, y, random_state = 123)\n",
        "\n",
        "# linear_svr = SVR(kernel = 'linear')\n",
        "# linear_svr.fit(X_train, y_train)\n",
        "\n",
        "# print(\"Linear SVR 학습 데이터 점수: {}\".format(linear_svr.score(X_train, y_train)))\n",
        "# print(\"Linear SVR 평가 데이터 점수: {}\".format(linear_svr.score(X_test, y_test)))\n",
        "\n",
        "\n",
        "# polynomial_svr = SVR(kernel = 'poly')\n",
        "# polynomial_svr.fit(X_train, y_train)\n",
        "\n",
        "# print(\"Polynomial SVR 학습 데이터 점수: {}\".format(polynomial_svr.score(X_train, y_train)))\n",
        "# print(\"Polynomial SVR 평가 데이터 점수: {}\".format(polynomial_svr.score(X_test, y_test)))\n",
        "\n",
        "\n",
        "# rbf_svr = SVR(kernel = 'rbf')\n",
        "# rbf_svr.fit(X_train, y_train)\n",
        "\n",
        "# print(\"RBF SVR 학습 데이터 점수: {}\".format(rbf_svr.score(X_train, y_train)))\n",
        "# print(\"RBF SVR 평가 데이터 점수: {}\".format(rbf_svr.score(X_test, y_test)))\n"
      ]
    },
    {
      "cell_type": "code",
      "execution_count": 12,
      "metadata": {
        "id": "KuvRIzarJO0H",
        "colab": {
          "base_uri": "https://localhost:8080/"
        },
        "outputId": "f9c60c42-573d-4ef0-a94c-81b515d57c36"
      },
      "outputs": [
        {
          "output_type": "stream",
          "name": "stdout",
          "text": [
            "Linear SVC 학습 데이터 점수: 0.960093896713615\n",
            "Linear SVC 평가 데이터 점수: 0.986013986013986\n",
            "Polynomial SVC 학습 데이터 점수: 0.9014084507042254\n",
            "Polynomial SVC 평가 데이터 점수: 0.9230769230769231\n",
            "RBF SVC 학습 데이터 점수: 0.9014084507042254\n",
            "RBF SVC 평가 데이터 점수: 0.9230769230769231\n"
          ]
        }
      ],
      "source": [
        "X, y = load_breast_cancer(return_X_y = True)\n",
        "X_train, X_test, y_train, y_test = train_test_split(X, y, random_state = 123)\n",
        "\n",
        "linear_svc = SVC(kernel = 'linear')\n",
        "linear_svc.fit(X_train, y_train)\n",
        "\n",
        "print(\"Linear SVC 학습 데이터 점수: {}\".format(linear_svc.score(X_train, y_train)))\n",
        "print(\"Linear SVC 평가 데이터 점수: {}\".format(linear_svc.score(X_test, y_test)))\n",
        "\n",
        "\n",
        "polynomial_svc = SVC(kernel = 'poly')\n",
        "polynomial_svc.fit(X_train, y_train)\n",
        "\n",
        "print(\"Polynomial SVC 학습 데이터 점수: {}\".format(polynomial_svc.score(X_train, y_train)))\n",
        "print(\"Polynomial SVC 평가 데이터 점수: {}\".format(polynomial_svc.score(X_test, y_test)))\n",
        "\n",
        "\n",
        "rbf_svc = SVC(kernel = 'rbf')\n",
        "rbf_svc.fit(X_train, y_train)\n",
        "\n",
        "print(\"RBF SVC 학습 데이터 점수: {}\".format(rbf_svc.score(X_train, y_train)))\n",
        "print(\"RBF SVC 평가 데이터 점수: {}\".format(rbf_svc.score(X_test, y_test)))"
      ]
    },
    {
      "cell_type": "markdown",
      "metadata": {
        "id": "ysbUu5o3Lm2V"
      },
      "source": [
        "## 매개변수 튜닝\n",
        "\n",
        "* SVM은 사용하는 커널에 따라 다양한 매개변수 설정 가능\n",
        "* 매개변수를 변경하면서 성능변화를 관찰"
      ]
    },
    {
      "cell_type": "code",
      "execution_count": 13,
      "metadata": {
        "id": "JyCxM4abOZyO"
      },
      "outputs": [],
      "source": [
        "X, y = load_breast_cancer(return_X_y = True)\n",
        "X_train, X_test, y_train, y_test = train_test_split(X, y, random_state = 123)"
      ]
    },
    {
      "cell_type": "code",
      "execution_count": 14,
      "metadata": {
        "id": "QN4BSxiaJspb",
        "colab": {
          "base_uri": "https://localhost:8080/"
        },
        "outputId": "05dac8be-9694-44bf-8d75-7e85698e306b"
      },
      "outputs": [
        {
          "output_type": "stream",
          "name": "stdout",
          "text": [
            "kernel = poly, degree = 2, C = 0.1, gamma = auto\n",
            "Polynomial SVC 학습 데이터 점수: 0.9835680751173709\n",
            "Polynomial SVC 평가 데이터 점수: 0.993006993006993\n"
          ]
        }
      ],
      "source": [
        "polynomial_svc = SVC(kernel = 'poly', degree = 2, C = 0.1, gamma = 'auto')\n",
        "polynomial_svc.fit(X_train, y_train)\n",
        "\n",
        "print(\"kernel = poly, degree = {}, C = {}, gamma = {}\".format(2, 0.1, 'auto'))\n",
        "print(\"Polynomial SVC 학습 데이터 점수: {}\".format(polynomial_svc.score(X_train, y_train)))\n",
        "print(\"Polynomial SVC 평가 데이터 점수: {}\".format(polynomial_svc.score(X_test, y_test)))"
      ]
    },
    {
      "cell_type": "code",
      "execution_count": 15,
      "metadata": {
        "id": "P7hOhO1oOvVC",
        "colab": {
          "base_uri": "https://localhost:8080/"
        },
        "outputId": "0be046e6-37ec-400e-8a55-50eee4305550"
      },
      "outputs": [
        {
          "output_type": "stream",
          "name": "stdout",
          "text": [
            "kernel = poly, degree = 2, C = 2.0, gamma = scale\n",
            "RBF SVC 학습 데이터 점수: 0.9154929577464789\n",
            "RBF SVC 평가 데이터 점수: 0.9370629370629371\n"
          ]
        }
      ],
      "source": [
        "rbf_svc = SVC(kernel = 'rbf', C = 2.0, gamma = 'scale')\n",
        "rbf_svc.fit(X_train, y_train)\n",
        "\n",
        "print(\"kernel = poly, degree = {}, C = {}, gamma = {}\".format(2, 2.0, 'scale'))\n",
        "print(\"RBF SVC 학습 데이터 점수: {}\".format(rbf_svc.score(X_train, y_train)))\n",
        "print(\"RBF SVC 평가 데이터 점수: {}\".format(rbf_svc.score(X_test, y_test)))"
      ]
    },
    {
      "cell_type": "markdown",
      "metadata": {
        "id": "aEQL8h8WU0An"
      },
      "source": [
        "## 데이터 전처리\n",
        "\n",
        "* SVM은 입력 데이터가 정규화 되어야 좋은 성능을 보임\n",
        "* 주로 모든 특성 값을 [0, 1] 범위로 맞추는 방법을 사용\n",
        "* scikit-learn의 StandardScaler 또는 MinMaxScaler를 사용해 정규화"
      ]
    },
    {
      "cell_type": "code",
      "execution_count": 16,
      "metadata": {
        "id": "RujhqUOsVU73"
      },
      "outputs": [],
      "source": [
        "X, y = load_breast_cancer(return_X_y = True)\n",
        "X_train, X_test, y_train, y_test = train_test_split(X, y, random_state = 123)"
      ]
    },
    {
      "cell_type": "code",
      "execution_count": 17,
      "metadata": {
        "id": "DWau9A6UWds4",
        "colab": {
          "base_uri": "https://localhost:8080/"
        },
        "outputId": "8006a09d-90f6-40e5-e2e1-a070e653b2e3"
      },
      "outputs": [
        {
          "output_type": "stream",
          "name": "stdout",
          "text": [
            "SVC 학습 데이터 점수: 0.9014084507042254\n",
            "SVC 평가 데이터 점수: 0.9230769230769231\n"
          ]
        }
      ],
      "source": [
        "model = SVC()\n",
        "model.fit(X_train, y_train)\n",
        "\n",
        "print(\"SVC 학습 데이터 점수: {}\".format(model.score(X_train, y_train)))\n",
        "print(\"SVC 평가 데이터 점수: {}\".format(model.score(X_test, y_test)))"
      ]
    },
    {
      "cell_type": "code",
      "execution_count": 18,
      "metadata": {
        "id": "y_ScHENS0ssY"
      },
      "outputs": [],
      "source": [
        "#normalize with StandardScaler\n",
        "scaler = StandardScaler()\n",
        "X_train = scaler.fit_transform(X_train)\n",
        "X_test = scaler.transform(X_test)"
      ]
    },
    {
      "cell_type": "code",
      "execution_count": 19,
      "metadata": {
        "id": "R2_4R6JE0ssi",
        "colab": {
          "base_uri": "https://localhost:8080/"
        },
        "outputId": "cce80502-793f-4ab6-8445-983ec34e9294"
      },
      "outputs": [
        {
          "output_type": "stream",
          "name": "stdout",
          "text": [
            "SVC 학습 데이터 점수: 0.9835680751173709\n",
            "SVC 평가 데이터 점수: 0.986013986013986\n"
          ]
        }
      ],
      "source": [
        "model = SVC()\n",
        "model.fit(X_train, y_train)\n",
        "\n",
        "print(\"SVC 학습 데이터 점수: {}\".format(model.score(X_train, y_train)))\n",
        "print(\"SVC 평가 데이터 점수: {}\".format(model.score(X_test, y_test)))"
      ]
    },
    {
      "cell_type": "code",
      "execution_count": 20,
      "metadata": {
        "id": "_EVkj33WVQOu"
      },
      "outputs": [],
      "source": [
        "#normalize with MinMaxScaler\n",
        "scaler = MinMaxScaler()\n",
        "X_train = scaler.fit_transform(X_train)\n",
        "X_test = scaler.transform(X_test)"
      ]
    },
    {
      "cell_type": "code",
      "execution_count": 21,
      "metadata": {
        "id": "D7Kj3q_bVmeN",
        "colab": {
          "base_uri": "https://localhost:8080/"
        },
        "outputId": "f88f55dc-c0d8-45c3-bd81-2b36174af913"
      },
      "outputs": [
        {
          "output_type": "stream",
          "name": "stdout",
          "text": [
            "SVC 학습 데이터 점수: 0.9812206572769953\n",
            "SVC 평가 데이터 점수: 0.986013986013986\n"
          ]
        }
      ],
      "source": [
        "model = SVC()\n",
        "model.fit(X_train, y_train)\n",
        "\n",
        "print(\"SVC 학습 데이터 점수: {}\".format(model.score(X_train, y_train)))\n",
        "print(\"SVC 평가 데이터 점수: {}\".format(model.score(X_test, y_test)))"
      ]
    },
    {
      "cell_type": "markdown",
      "metadata": {
        "id": "zLjtZC7gYr7R"
      },
      "source": [
        "## Linear SVR"
      ]
    },
    {
      "cell_type": "markdown",
      "metadata": {
        "id": "tbZicmjAZBZp"
      },
      "source": [
        "### 캘리포니아 주택 가격"
      ]
    },
    {
      "cell_type": "code",
      "execution_count": 22,
      "metadata": {
        "id": "X39InXCSYuPf"
      },
      "outputs": [],
      "source": [
        "# X, y = fetch_california_housing(return_X_y = True)\n",
        "# X_train, X_test, y_train, y_test = train_test_split(X, y, test_size = 0.2)"
      ]
    },
    {
      "cell_type": "code",
      "execution_count": 23,
      "metadata": {
        "id": "I1TKwSKhdLaU"
      },
      "outputs": [],
      "source": [
        "# scaler = StandardScaler()\n",
        "# scaler.fit(X_train)\n",
        "# X_train = scaler.transform(X_train)\n",
        "# X_test = scaler.transform(X_test)"
      ]
    },
    {
      "cell_type": "code",
      "execution_count": 24,
      "metadata": {
        "id": "deIvkeKRZqTU"
      },
      "outputs": [],
      "source": [
        "# model = SVR(kernel = 'linear')\n",
        "# model.fit(X_train, y_train)"
      ]
    },
    {
      "cell_type": "code",
      "execution_count": 25,
      "metadata": {
        "id": "zEknoMb5aRBt"
      },
      "outputs": [],
      "source": [
        "# print(\"학습 데이터 점수: {}\".format(model.score(X_train, y_train)))\n",
        "# print(\"평가 데이터 점수: {}\".format(model.score(X_test, y_test)))"
      ]
    },
    {
      "cell_type": "code",
      "execution_count": 26,
      "metadata": {
        "id": "S3ipWjbFiete"
      },
      "outputs": [],
      "source": [
        "# #SVM은 저차원 변화 후 시각화\n",
        "# X_comp = TSNE(n_components = 1).fit_transform(X)\n",
        "# plt.scatter(X_comp, y);"
      ]
    },
    {
      "cell_type": "code",
      "execution_count": 27,
      "metadata": {
        "id": "IqLc69hojcIr"
      },
      "outputs": [],
      "source": [
        "# model.fit(X_comp, y)\n",
        "# predict = model.predict(X_comp)\n",
        "# plt.scatter(X_comp, y)\n",
        "# plt.scatter(X_comp, predict, color = 'r');"
      ]
    },
    {
      "cell_type": "code",
      "execution_count": 28,
      "metadata": {
        "id": "YzGeXLmZbGY7"
      },
      "outputs": [],
      "source": [
        "# estimator = make_pipeline(StandardScaler(), SVR(kernel = 'linear'))\n",
        "\n",
        "# cross_validate(\n",
        "#     estimator = estimator,\n",
        "#     X = X, y = y,\n",
        "#     cv = 5,\n",
        "#     n_jobs = multiprocessing.cpu_count(),\n",
        "#     verbose = True\n",
        "# )"
      ]
    },
    {
      "cell_type": "code",
      "execution_count": 29,
      "metadata": {
        "id": "Hfo2Z6T5jo73"
      },
      "outputs": [],
      "source": [
        "# pipe = Pipeline([('scaler', StandardScaler()),\n",
        "#                      ('model', SVR(kernel = 'linear'))])\n",
        "\n",
        "# param_grid = [{'model__gamma': ['scale', 'auto'],\n",
        "#                'model__C': [1.0, 0.1, 0.01],\n",
        "#                'model__epsilon': [1.0, 0.1, 0.01]}]\n",
        "\n",
        "# gs = GridSearchCV(\n",
        "#     estimator = pipe,\n",
        "#     param_grid = param_grid,\n",
        "#     n_jobs = multiprocessing.cpu_count(),\n",
        "#     cv = 5,\n",
        "#     verbose = True\n",
        "# )\n",
        "\n",
        "# gs.fit(X,y)"
      ]
    },
    {
      "cell_type": "code",
      "execution_count": 30,
      "metadata": {
        "id": "G1BG0w50iUNF"
      },
      "outputs": [],
      "source": [
        "# gs.best_estimator_ #최적의 값들 알려줌"
      ]
    },
    {
      "cell_type": "markdown",
      "metadata": {
        "id": "Tlmsj9sHlB_i"
      },
      "source": [
        "### 당뇨병"
      ]
    },
    {
      "cell_type": "code",
      "execution_count": 31,
      "metadata": {
        "id": "9b0eQ625-JOu"
      },
      "outputs": [],
      "source": [
        "X, y = load_diabetes(return_X_y = True)\n",
        "X_train, X_test, y_train, y_test = train_test_split(X, y, test_size = 0.2)"
      ]
    },
    {
      "cell_type": "code",
      "execution_count": 32,
      "metadata": {
        "id": "m_4CAYV4-JO0"
      },
      "outputs": [],
      "source": [
        "scaler = StandardScaler()\n",
        "scaler.fit(X_train)\n",
        "X_train = scaler.transform(X_train)\n",
        "X_test = scaler.transform(X_test)"
      ]
    },
    {
      "cell_type": "code",
      "execution_count": 33,
      "metadata": {
        "id": "IVeqfdop-JO1",
        "colab": {
          "base_uri": "https://localhost:8080/"
        },
        "outputId": "283ae8a5-2302-4fd8-f07a-4a36c72e2afc"
      },
      "outputs": [
        {
          "output_type": "execute_result",
          "data": {
            "text/plain": [
              "SVR(kernel='linear')"
            ]
          },
          "metadata": {},
          "execution_count": 33
        }
      ],
      "source": [
        "model = SVR(kernel = 'linear')\n",
        "model.fit(X_train, y_train)"
      ]
    },
    {
      "cell_type": "code",
      "execution_count": 34,
      "metadata": {
        "id": "TBRyneUo-JO1",
        "colab": {
          "base_uri": "https://localhost:8080/"
        },
        "outputId": "7185d743-f782-4adb-f290-7bb2494fcff1"
      },
      "outputs": [
        {
          "output_type": "stream",
          "name": "stdout",
          "text": [
            "학습 데이터 점수: 0.510109832707219\n",
            "평가 데이터 점수: 0.45749983855754883\n"
          ]
        }
      ],
      "source": [
        "print(\"학습 데이터 점수: {}\".format(model.score(X_train, y_train)))\n",
        "print(\"평가 데이터 점수: {}\".format(model.score(X_test, y_test)))"
      ]
    },
    {
      "cell_type": "code",
      "execution_count": 35,
      "metadata": {
        "id": "gHwvitrY-JO1",
        "colab": {
          "base_uri": "https://localhost:8080/",
          "height": 355
        },
        "outputId": "ea251396-ffcc-43f3-ab5f-d978e1e382c7"
      },
      "outputs": [
        {
          "output_type": "stream",
          "name": "stderr",
          "text": [
            "/usr/local/lib/python3.7/dist-packages/sklearn/manifold/_t_sne.py:783: FutureWarning: The default initialization in TSNE will change from 'random' to 'pca' in 1.2.\n",
            "  FutureWarning,\n",
            "/usr/local/lib/python3.7/dist-packages/sklearn/manifold/_t_sne.py:793: FutureWarning: The default learning rate in TSNE will change from 200.0 to 'auto' in 1.2.\n",
            "  FutureWarning,\n"
          ]
        },
        {
          "output_type": "display_data",
          "data": {
            "text/plain": [
              "<Figure size 432x288 with 1 Axes>"
            ],
            "image/png": "[encoded data removed]"
          },
          "metadata": {}
        }
      ],
      "source": [
        "#SVM은 저차원 변화 후 시각화\n",
        "X_comp = TSNE(n_components = 1).fit_transform(X)\n",
        "plt.scatter(X_comp, y);"
      ]
    },
    {
      "cell_type": "code",
      "execution_count": 36,
      "metadata": {
        "id": "z7x3Ayg2-JO1",
        "colab": {
          "base_uri": "https://localhost:8080/",
          "height": 262
        },
        "outputId": "3771b966-46b4-4b42-c65f-402864401b74"
      },
      "outputs": [
        {
          "output_type": "display_data",
          "data": {
            "text/plain": [
              "<Figure size 432x288 with 1 Axes>"
            ],
            "image/png": "[encoded data removed]"
          },
          "metadata": {}
        }
      ],
      "source": [
        "model.fit(X_comp, y)\n",
        "predict = model.predict(X_comp)\n",
        "plt.scatter(X_comp, y)\n",
        "plt.scatter(X_comp, predict, color = 'r');"
      ]
    },
    {
      "cell_type": "code",
      "execution_count": 37,
      "metadata": {
        "id": "789L70Pi-JO2",
        "colab": {
          "base_uri": "https://localhost:8080/"
        },
        "outputId": "83fbcd9e-9710-4ef7-bf32-46c5d4f13c5a"
      },
      "outputs": [
        {
          "output_type": "stream",
          "name": "stderr",
          "text": [
            "[Parallel(n_jobs=2)]: Using backend LokyBackend with 2 concurrent workers.\n",
            "[Parallel(n_jobs=2)]: Done   5 out of   5 | elapsed:    1.2s finished\n"
          ]
        },
        {
          "output_type": "execute_result",
          "data": {
            "text/plain": [
              "{'fit_time': array([0.01721168, 0.013551  , 0.01294112, 0.01211166, 0.00959945]),\n",
              " 'score_time': array([0.00287533, 0.00278807, 0.00283003, 0.00268888, 0.00182295]),\n",
              " 'test_score': array([0.43037242, 0.51653341, 0.48275332, 0.42247202, 0.53076481])}"
            ]
          },
          "metadata": {},
          "execution_count": 37
        }
      ],
      "source": [
        "estimator = make_pipeline(StandardScaler(), SVR(kernel = 'linear'))\n",
        "\n",
        "cross_validate(\n",
        "    estimator = estimator,\n",
        "    X = X, y = y,\n",
        "    cv = 5,\n",
        "    n_jobs = multiprocessing.cpu_count(),\n",
        "    verbose = True\n",
        ")"
      ]
    },
    {
      "cell_type": "code",
      "execution_count": 38,
      "metadata": {
        "id": "LDlOVXa3-JO2",
        "colab": {
          "base_uri": "https://localhost:8080/"
        },
        "outputId": "68c04c2c-69a8-4b6a-88a3-d7d2143074a6"
      },
      "outputs": [
        {
          "output_type": "stream",
          "name": "stdout",
          "text": [
            "Fitting 5 folds for each of 18 candidates, totalling 90 fits\n"
          ]
        },
        {
          "output_type": "execute_result",
          "data": {
            "text/plain": [
              "GridSearchCV(cv=5,\n",
              "             estimator=Pipeline(steps=[('scaler', StandardScaler()),\n",
              "                                       ('model', SVR(kernel='linear'))]),\n",
              "             n_jobs=2,\n",
              "             param_grid=[{'model__C': [1.0, 0.1, 0.01],\n",
              "                          'model__epsilon': [1.0, 0.1, 0.01],\n",
              "                          'model__gamma': ['scale', 'auto']}],\n",
              "             verbose=True)"
            ]
          },
          "metadata": {},
          "execution_count": 38
        }
      ],
      "source": [
        "pipe = Pipeline([('scaler', StandardScaler()),\n",
        "                     ('model', SVR(kernel = 'linear'))])\n",
        "\n",
        "param_grid = [{'model__gamma': ['scale', 'auto'],\n",
        "               'model__C': [1.0, 0.1, 0.01],\n",
        "               'model__epsilon': [1.0, 0.1, 0.01]}]\n",
        "\n",
        "gs = GridSearchCV(\n",
        "    estimator = pipe,\n",
        "    param_grid = param_grid,\n",
        "    n_jobs = multiprocessing.cpu_count(),\n",
        "    cv = 5,\n",
        "    verbose = True\n",
        ")\n",
        "\n",
        "gs.fit(X,y)"
      ]
    },
    {
      "cell_type": "code",
      "execution_count": 39,
      "metadata": {
        "id": "Bl9S8eV8-JO2",
        "colab": {
          "base_uri": "https://localhost:8080/"
        },
        "outputId": "b0add3ed-869a-4ab0-ddac-0c8557a5ac7c"
      },
      "outputs": [
        {
          "output_type": "execute_result",
          "data": {
            "text/plain": [
              "Pipeline(steps=[('scaler', StandardScaler()),\n",
              "                ('model', SVR(epsilon=1.0, kernel='linear'))])"
            ]
          },
          "metadata": {},
          "execution_count": 39
        }
      ],
      "source": [
        "gs.best_estimator_ #최적의 값들 알려줌"
      ]
    },
    {
      "cell_type": "markdown",
      "metadata": {
        "id": "4d3ZxGT-rzSF"
      },
      "source": [
        "## Kernel SVR"
      ]
    },
    {
      "cell_type": "markdown",
      "metadata": {
        "id": "sJ4hf_LMr6i4"
      },
      "source": [
        "### 캘리포니아 주택 가격"
      ]
    },
    {
      "cell_type": "code",
      "execution_count": 40,
      "metadata": {
        "id": "_rBlIyKQBZAM"
      },
      "outputs": [],
      "source": [
        "# X, y = fetch_california_housing(return_X_y = True)\n",
        "# X_train, X_test, y_train, y_test = train_test_split(X, y, test_size = 0.2)"
      ]
    },
    {
      "cell_type": "code",
      "execution_count": 41,
      "metadata": {
        "id": "pd5hm_b2BZAN"
      },
      "outputs": [],
      "source": [
        "# #전처리 scaling\n",
        "# scaler = StandardScaler()\n",
        "# scaler.fit(X_train)\n",
        "# X_train = scaler.transform(X_train)\n",
        "# X_test = scaler.transform(X_test)"
      ]
    },
    {
      "cell_type": "code",
      "execution_count": 42,
      "metadata": {
        "id": "EkN5gTWmBZAO"
      },
      "outputs": [],
      "source": [
        "# #linear 아니라 rbf로\n",
        "# model = SVR(kernel = 'rbf')\n",
        "# model.fit(X_train, y_train)"
      ]
    },
    {
      "cell_type": "code",
      "execution_count": 43,
      "metadata": {
        "id": "p0OIDwPZBZAP"
      },
      "outputs": [],
      "source": [
        "# print(\"학습 데이터 점수: {}\".format(model.score(X_train, y_train)))\n",
        "# print(\"평가 데이터 점수: {}\".format(model.score(X_test, y_test)))"
      ]
    },
    {
      "cell_type": "code",
      "execution_count": 44,
      "metadata": {
        "id": "64l39rikBZAP"
      },
      "outputs": [],
      "source": [
        "# #SVM은 저차원 변화 후 시각화\n",
        "# X_comp = TSNE(n_components = 1).fit_transform(X)\n",
        "# plt.scatter(X_comp, y);"
      ]
    },
    {
      "cell_type": "code",
      "execution_count": 45,
      "metadata": {
        "id": "3HD21vh7BZAQ"
      },
      "outputs": [],
      "source": [
        "# model.fit(X_comp, y)\n",
        "# predict = model.predict(X_comp)\n",
        "# plt.scatter(X_comp, y)\n",
        "# plt.scatter(X_comp, predict, color = 'r');"
      ]
    },
    {
      "cell_type": "code",
      "execution_count": 46,
      "metadata": {
        "id": "Eo51-CrLBZAR"
      },
      "outputs": [],
      "source": [
        "# estimator = make_pipeline(StandardScaler(), SVR(kernel = 'rbf'))\n",
        "\n",
        "# cross_validate(\n",
        "#     estimator = estimator,\n",
        "#     X = X, y = y,\n",
        "#     cv = 5,\n",
        "#     n_jobs = multiprocessing.cpu_count(),\n",
        "#     verbose = True\n",
        "# )"
      ]
    },
    {
      "cell_type": "code",
      "execution_count": 47,
      "metadata": {
        "id": "ncwamKfABZAT"
      },
      "outputs": [],
      "source": [
        "# pipe = Pipeline([('scaler', StandardScaler()),\n",
        "#                      ('model', SVR(kernel = 'rbf'))])\n",
        "\n",
        "# param_grid = [{'model__kernel': ['rbf', 'polynomial', 'sigmoid']}]\n",
        "\n",
        "# gs = GridSearchCV(\n",
        "#     estimator = pipe,\n",
        "#     param_grid = param_grid,\n",
        "#     n_jobs = multiprocessing.cpu_count(),\n",
        "#     cv = 5,\n",
        "#     verbose = True\n",
        "# )\n",
        "\n",
        "# gs.fit(X,y)"
      ]
    },
    {
      "cell_type": "code",
      "execution_count": 48,
      "metadata": {
        "id": "RUzhAQtEBZAT"
      },
      "outputs": [],
      "source": [
        "# gs.best_estimator_ #최적의 값들 알려줌"
      ]
    },
    {
      "cell_type": "markdown",
      "metadata": {
        "id": "WjmIL-u1r9qU"
      },
      "source": [
        "### 당뇨병"
      ]
    },
    {
      "cell_type": "code",
      "execution_count": 49,
      "metadata": {
        "id": "XPbpa9IxGtMQ"
      },
      "outputs": [],
      "source": [
        "X, y = load_diabetes(return_X_y = True)\n",
        "X_train, X_test, y_train, y_test = train_test_split(X, y, test_size = 0.2)"
      ]
    },
    {
      "cell_type": "code",
      "execution_count": 50,
      "metadata": {
        "id": "bvrH65sJGtMR"
      },
      "outputs": [],
      "source": [
        "#전처리 scaling\n",
        "scaler = StandardScaler()\n",
        "scaler.fit(X_train)\n",
        "X_train = scaler.transform(X_train)\n",
        "X_test = scaler.transform(X_test)"
      ]
    },
    {
      "cell_type": "code",
      "execution_count": 51,
      "metadata": {
        "id": "V0ZA_Vs_GtMR",
        "colab": {
          "base_uri": "https://localhost:8080/"
        },
        "outputId": "8fc54053-4d04-45cc-fed7-6e94372faa2b"
      },
      "outputs": [
        {
          "output_type": "execute_result",
          "data": {
            "text/plain": [
              "SVR()"
            ]
          },
          "metadata": {},
          "execution_count": 51
        }
      ],
      "source": [
        "#linear 아니라 rbf로\n",
        "model = SVR(kernel = 'rbf')\n",
        "model.fit(X_train, y_train)"
      ]
    },
    {
      "cell_type": "code",
      "execution_count": 52,
      "metadata": {
        "id": "LBU-5dYlGtMR",
        "colab": {
          "base_uri": "https://localhost:8080/"
        },
        "outputId": "e4a9b692-b4b3-4ea4-fb4e-19ee04606baf"
      },
      "outputs": [
        {
          "output_type": "stream",
          "name": "stdout",
          "text": [
            "학습 데이터 점수: 0.17409706482025555\n",
            "평가 데이터 점수: 0.2079846298792829\n"
          ]
        }
      ],
      "source": [
        "print(\"학습 데이터 점수: {}\".format(model.score(X_train, y_train)))\n",
        "print(\"평가 데이터 점수: {}\".format(model.score(X_test, y_test)))"
      ]
    },
    {
      "cell_type": "code",
      "execution_count": 53,
      "metadata": {
        "id": "dGZ16oGsGtMS",
        "colab": {
          "base_uri": "https://localhost:8080/",
          "height": 355
        },
        "outputId": "b0c88c27-70e3-42f7-c230-0710cb66802c"
      },
      "outputs": [
        {
          "output_type": "stream",
          "name": "stderr",
          "text": [
            "/usr/local/lib/python3.7/dist-packages/sklearn/manifold/_t_sne.py:783: FutureWarning: The default initialization in TSNE will change from 'random' to 'pca' in 1.2.\n",
            "  FutureWarning,\n",
            "/usr/local/lib/python3.7/dist-packages/sklearn/manifold/_t_sne.py:793: FutureWarning: The default learning rate in TSNE will change from 200.0 to 'auto' in 1.2.\n",
            "  FutureWarning,\n"
          ]
        },
        {
          "output_type": "display_data",
          "data": {
            "text/plain": [
              "<Figure size 432x288 with 1 Axes>"
            ],
            "image/png": "[encoded data removed]"
          },
          "metadata": {}
        }
      ],
      "source": [
        "#SVM은 저차원 변화 후 시각화\n",
        "X_comp = TSNE(n_components = 1).fit_transform(X)\n",
        "plt.scatter(X_comp, y);"
      ]
    },
    {
      "cell_type": "code",
      "execution_count": 54,
      "metadata": {
        "id": "bvq0_dQHGtMS",
        "colab": {
          "base_uri": "https://localhost:8080/",
          "height": 262
        },
        "outputId": "29fb6e57-936e-4e26-dcff-564a69ad9a8e"
      },
      "outputs": [
        {
          "output_type": "display_data",
          "data": {
            "text/plain": [
              "<Figure size 432x288 with 1 Axes>"
            ],
            "image/png": "[encoded data removed]"
          },
          "metadata": {}
        }
      ],
      "source": [
        "model.fit(X_comp, y)\n",
        "predict = model.predict(X_comp)\n",
        "plt.scatter(X_comp, y)\n",
        "plt.scatter(X_comp, predict, color = 'r');"
      ]
    },
    {
      "cell_type": "code",
      "execution_count": 55,
      "metadata": {
        "id": "wvtJXlYLGtMS",
        "colab": {
          "base_uri": "https://localhost:8080/"
        },
        "outputId": "33ff5519-1a59-4efc-e2ec-6c7321b6a354"
      },
      "outputs": [
        {
          "output_type": "stream",
          "name": "stderr",
          "text": [
            "[Parallel(n_jobs=2)]: Using backend LokyBackend with 2 concurrent workers.\n",
            "[Parallel(n_jobs=2)]: Done   5 out of   5 | elapsed:    0.1s finished\n"
          ]
        },
        {
          "output_type": "execute_result",
          "data": {
            "text/plain": [
              "{'fit_time': array([0.0224824 , 0.01693249, 0.01998353, 0.01646256, 0.01090074]),\n",
              " 'score_time': array([0.00569105, 0.00598407, 0.00573683, 0.00550699, 0.00367069]),\n",
              " 'test_score': array([0.14580789, 0.12539919, 0.18163816, 0.12223073, 0.15792085])}"
            ]
          },
          "metadata": {},
          "execution_count": 55
        }
      ],
      "source": [
        "estimator = make_pipeline(StandardScaler(), SVR(kernel = 'rbf'))\n",
        "\n",
        "cross_validate(\n",
        "    estimator = estimator,\n",
        "    X = X, y = y,\n",
        "    cv = 5,\n",
        "    n_jobs = multiprocessing.cpu_count(),\n",
        "    verbose = True\n",
        ")"
      ]
    },
    {
      "cell_type": "code",
      "execution_count": 56,
      "metadata": {
        "id": "hsR4OpOeGtMT",
        "colab": {
          "base_uri": "https://localhost:8080/"
        },
        "outputId": "bd85132c-b1ca-4bcb-b8b6-e24f5a7860b1"
      },
      "outputs": [
        {
          "output_type": "stream",
          "name": "stdout",
          "text": [
            "Fitting 5 folds for each of 3 candidates, totalling 15 fits\n"
          ]
        },
        {
          "output_type": "stream",
          "name": "stderr",
          "text": [
            "/usr/local/lib/python3.7/dist-packages/sklearn/model_selection/_validation.py:372: FitFailedWarning: \n",
            "5 fits failed out of a total of 15.\n",
            "The score on these train-test partitions for these parameters will be set to nan.\n",
            "If these failures are not expected, you can try to debug them by setting error_score='raise'.\n",
            "\n",
            "Below are more details about the failures:\n",
            "--------------------------------------------------------------------------------\n",
            "5 fits failed with the following error:\n",
            "Traceback (most recent call last):\n",
            "  File \"/usr/local/lib/python3.7/dist-packages/sklearn/model_selection/_validation.py\", line 680, in _fit_and_score\n",
            "    estimator.fit(X_train, y_train, **fit_params)\n",
            "  File \"/usr/local/lib/python3.7/dist-packages/sklearn/pipeline.py\", line 394, in fit\n",
            "    self._final_estimator.fit(Xt, y, **fit_params_last_step)\n",
            "  File \"/usr/local/lib/python3.7/dist-packages/sklearn/svm/_base.py\", line 255, in fit\n",
            "    fit(X, y, sample_weight, solver_type, kernel, random_seed=seed)\n",
            "  File \"/usr/local/lib/python3.7/dist-packages/sklearn/svm/_base.py\", line 333, in _dense_fit\n",
            "    random_seed=random_seed,\n",
            "  File \"sklearn/svm/_libsvm.pyx\", line 173, in sklearn.svm._libsvm.fit\n",
            "ValueError: 'polynomial' is not in list\n",
            "\n",
            "  warnings.warn(some_fits_failed_message, FitFailedWarning)\n",
            "/usr/local/lib/python3.7/dist-packages/sklearn/model_selection/_search.py:972: UserWarning: One or more of the test scores are non-finite: [0.14659936        nan 0.34913589]\n",
            "  category=UserWarning,\n"
          ]
        },
        {
          "output_type": "execute_result",
          "data": {
            "text/plain": [
              "GridSearchCV(cv=5,\n",
              "             estimator=Pipeline(steps=[('scaler', StandardScaler()),\n",
              "                                       ('model', SVR())]),\n",
              "             n_jobs=2,\n",
              "             param_grid=[{'model__kernel': ['rbf', 'polynomial', 'sigmoid']}],\n",
              "             verbose=True)"
            ]
          },
          "metadata": {},
          "execution_count": 56
        }
      ],
      "source": [
        "pipe = Pipeline([('scaler', StandardScaler()),\n",
        "                     ('model', SVR(kernel = 'rbf'))])\n",
        "\n",
        "param_grid = [{'model__kernel': ['rbf', 'polynomial', 'sigmoid']}]\n",
        "\n",
        "gs = GridSearchCV(\n",
        "    estimator = pipe,\n",
        "    param_grid = param_grid,\n",
        "    n_jobs = multiprocessing.cpu_count(),\n",
        "    cv = 5,\n",
        "    verbose = True\n",
        ")\n",
        "\n",
        "gs.fit(X,y)"
      ]
    },
    {
      "cell_type": "code",
      "execution_count": 57,
      "metadata": {
        "id": "IgMd_N9hGtMT",
        "colab": {
          "base_uri": "https://localhost:8080/"
        },
        "outputId": "ccb399db-8eeb-4731-8131-3cd7a1f64f29"
      },
      "outputs": [
        {
          "output_type": "execute_result",
          "data": {
            "text/plain": [
              "Pipeline(steps=[('scaler', StandardScaler()), ('model', SVR(kernel='sigmoid'))])"
            ]
          },
          "metadata": {},
          "execution_count": 57
        }
      ],
      "source": [
        "gs.best_estimator_ #최적의 값들 알려줌"
      ]
    },
    {
      "cell_type": "code",
      "execution_count": 58,
      "metadata": {
        "id": "51cWDbqWGtMU",
        "colab": {
          "base_uri": "https://localhost:8080/"
        },
        "outputId": "97f832d0-ab0c-422d-b5de-e1a9b05bbc2f"
      },
      "outputs": [
        {
          "output_type": "stream",
          "name": "stdout",
          "text": [
            "Fitting 5 folds for each of 18 candidates, totalling 90 fits\n"
          ]
        },
        {
          "output_type": "execute_result",
          "data": {
            "text/plain": [
              "GridSearchCV(cv=5,\n",
              "             estimator=Pipeline(steps=[('scaler', StandardScaler()),\n",
              "                                       ('model', SVR(kernel='sigmoid'))]),\n",
              "             n_jobs=2,\n",
              "             param_grid=[{'model__C': [1.0, 0.1, 0.01],\n",
              "                          'model__epsilon': [1.0, 0.1, 0.01],\n",
              "                          'model__gamma': ['scale', 'auto']}],\n",
              "             verbose=True)"
            ]
          },
          "metadata": {},
          "execution_count": 58
        }
      ],
      "source": [
        "pipe = Pipeline([('scaler', StandardScaler()),\n",
        "                     ('model', SVR(kernel = 'sigmoid'))])\n",
        "\n",
        "param_grid = [{'model__gamma': ['scale', 'auto'],\n",
        "               'model__C': [1.0, 0.1, 0.01],\n",
        "               'model__epsilon': [1.0, 0.1, 0.01]}]\n",
        "\n",
        "gs = GridSearchCV(\n",
        "    estimator = pipe,\n",
        "    param_grid = param_grid,\n",
        "    n_jobs = multiprocessing.cpu_count(),\n",
        "    cv = 5,\n",
        "    verbose = True\n",
        ")\n",
        "\n",
        "gs.fit(X,y)"
      ]
    },
    {
      "cell_type": "code",
      "execution_count": 59,
      "metadata": {
        "id": "_1TDn7xzGtMU",
        "colab": {
          "base_uri": "https://localhost:8080/"
        },
        "outputId": "44c6fbdd-7e75-4eff-a2a0-beddfb1e018d"
      },
      "outputs": [
        {
          "output_type": "execute_result",
          "data": {
            "text/plain": [
              "Pipeline(steps=[('scaler', StandardScaler()),\n",
              "                ('model', SVR(epsilon=1.0, gamma='auto', kernel='sigmoid'))])"
            ]
          },
          "metadata": {},
          "execution_count": 59
        }
      ],
      "source": [
        "gs.best_estimator_"
      ]
    },
    {
      "cell_type": "code",
      "execution_count": 60,
      "metadata": {
        "id": "AmFCvtJlI99z",
        "colab": {
          "base_uri": "https://localhost:8080/"
        },
        "outputId": "68aa9b3b-f3a5-480c-dbbb-dde45a063730"
      },
      "outputs": [
        {
          "output_type": "stream",
          "name": "stdout",
          "text": [
            "학습 데이터 점수: 0.3556326825396152\n",
            "평가 데이터 점수: 0.42726602104232314\n"
          ]
        }
      ],
      "source": [
        "model = gs.best_estimator_\n",
        "model.fit(X_train, y_train)\n",
        "\n",
        "print(\"학습 데이터 점수: {}\".format(model.score(X_train, y_train)))\n",
        "print(\"평가 데이터 점수: {}\".format(model.score(X_test, y_test)))"
      ]
    },
    {
      "cell_type": "markdown",
      "metadata": {
        "id": "iW0DXTLrNya-"
      },
      "source": [
        "## Linear SVC"
      ]
    },
    {
      "cell_type": "markdown",
      "metadata": {
        "id": "1b30IAFxN8XR"
      },
      "source": [
        "### 유방암"
      ]
    },
    {
      "cell_type": "code",
      "execution_count": 61,
      "metadata": {
        "id": "N4o3eDJRISAX"
      },
      "outputs": [],
      "source": [
        "X, y = load_breast_cancer(return_X_y = True)\n",
        "X_train, X_test, y_train, y_test = train_test_split(X, y, test_size = 0.2)"
      ]
    },
    {
      "cell_type": "code",
      "execution_count": 62,
      "metadata": {
        "id": "1bDn6yutISAY"
      },
      "outputs": [],
      "source": [
        "#전처리 scaling\n",
        "scaler = StandardScaler()\n",
        "scaler.fit(X_train)\n",
        "X_train = scaler.transform(X_train)\n",
        "X_test = scaler.transform(X_test)"
      ]
    },
    {
      "cell_type": "code",
      "execution_count": 63,
      "metadata": {
        "id": "Rjz-mUJ-ISAZ",
        "colab": {
          "base_uri": "https://localhost:8080/"
        },
        "outputId": "0b8a97c0-2bc1-4139-e3b5-5b4e94198244"
      },
      "outputs": [
        {
          "output_type": "execute_result",
          "data": {
            "text/plain": [
              "SVC(kernel='linear')"
            ]
          },
          "metadata": {},
          "execution_count": 63
        }
      ],
      "source": [
        "#classification: linear SVC\n",
        "model = SVC(kernel = 'linear')\n",
        "model.fit(X_train, y_train)"
      ]
    },
    {
      "cell_type": "code",
      "execution_count": 64,
      "metadata": {
        "id": "hurwSn2EISAZ",
        "colab": {
          "base_uri": "https://localhost:8080/"
        },
        "outputId": "7bb2273c-a4b7-4263-97d6-c51540982182"
      },
      "outputs": [
        {
          "output_type": "stream",
          "name": "stdout",
          "text": [
            "학습 데이터 점수: 0.9956043956043956\n",
            "평가 데이터 점수: 0.9649122807017544\n"
          ]
        }
      ],
      "source": [
        "print(\"학습 데이터 점수: {}\".format(model.score(X_train, y_train)))\n",
        "print(\"평가 데이터 점수: {}\".format(model.score(X_test, y_test)))"
      ]
    },
    {
      "cell_type": "code",
      "execution_count": 65,
      "metadata": {
        "id": "LHUbQemQIqt4"
      },
      "outputs": [],
      "source": [
        "#SVC는 데이터 밖에 클래스 구분 되는 부분까지 시각화\n",
        "\n",
        "def make_meshgrid(x, y, h = 0.02):\n",
        "  x_min, x_max = x.min() - 1, x.max() + 1\n",
        "  y_min, y_max = y.min() - 1, y.max() + 1\n",
        "  xx, yy = np.meshgrid(np.arange(x_min, x_max, h),\n",
        "                       np.arange(y_min, y_max, h))\n",
        "  \n",
        "  return xx, yy"
      ]
    },
    {
      "cell_type": "code",
      "execution_count": 66,
      "metadata": {
        "id": "XFZLPlBmJOIK"
      },
      "outputs": [],
      "source": [
        "def plot_contours(clf, xx, yy, **params):\n",
        "  Z = clf.predict(np.c_[xx.ravel(), yy.ravel()])\n",
        "  Z = Z.reshape(xx.shape)\n",
        "  out = plt.contourf(xx, yy, Z, **params)\n",
        "\n",
        "  return out"
      ]
    },
    {
      "cell_type": "code",
      "execution_count": 67,
      "metadata": {
        "id": "hCAVV8ckISAa",
        "colab": {
          "base_uri": "https://localhost:8080/"
        },
        "outputId": "0db856b4-00cd-4ce9-a6b6-ac9f57ca7d7e"
      },
      "outputs": [
        {
          "output_type": "stream",
          "name": "stderr",
          "text": [
            "/usr/local/lib/python3.7/dist-packages/sklearn/manifold/_t_sne.py:783: FutureWarning: The default initialization in TSNE will change from 'random' to 'pca' in 1.2.\n",
            "  FutureWarning,\n",
            "/usr/local/lib/python3.7/dist-packages/sklearn/manifold/_t_sne.py:793: FutureWarning: The default learning rate in TSNE will change from 200.0 to 'auto' in 1.2.\n",
            "  FutureWarning,\n"
          ]
        }
      ],
      "source": [
        "X_comp = TSNE(n_components = 2).fit_transform(X)\n",
        "X0, X1 = X_comp[:, 0], X_comp[:, 1]\n",
        "xx, yy = make_meshgrid(X0, X1)"
      ]
    },
    {
      "cell_type": "code",
      "execution_count": 68,
      "metadata": {
        "id": "PhFLHo_LISAa",
        "colab": {
          "base_uri": "https://localhost:8080/",
          "height": 280
        },
        "outputId": "ab8721ad-d1d7-47ed-c7d3-d6c4916b7202"
      },
      "outputs": [
        {
          "output_type": "execute_result",
          "data": {
            "text/plain": [
              "<matplotlib.collections.PathCollection at 0x7ff9a98c80d0>"
            ]
          },
          "metadata": {},
          "execution_count": 68
        },
        {
          "output_type": "display_data",
          "data": {
            "text/plain": [
              "<Figure size 432x288 with 1 Axes>"
            ],
            "image/png": "[encoded data removed]"
          },
          "metadata": {}
        }
      ],
      "source": [
        "model.fit(X_comp, y)\n",
        "\n",
        "plot_contours(model, xx, yy, cmap = plt.cm.coolwarm, alpha = 0.7)\n",
        "plt.scatter(X0, X1, c = y, cmap = plt.cm.coolwarm, s = 20, edgecolors = 'k')"
      ]
    },
    {
      "cell_type": "code",
      "execution_count": 69,
      "metadata": {
        "id": "a1glnwjuISAa",
        "colab": {
          "base_uri": "https://localhost:8080/"
        },
        "outputId": "83ab7fde-d3fe-4b96-d08a-70780f64b16b"
      },
      "outputs": [
        {
          "output_type": "stream",
          "name": "stderr",
          "text": [
            "[Parallel(n_jobs=2)]: Using backend LokyBackend with 2 concurrent workers.\n",
            "[Parallel(n_jobs=2)]: Done   5 out of   5 | elapsed:    0.1s finished\n"
          ]
        },
        {
          "output_type": "execute_result",
          "data": {
            "text/plain": [
              "{'fit_time': array([0.00923681, 0.00732756, 0.00761294, 0.00977015, 0.00840831]),\n",
              " 'score_time': array([0.00170135, 0.00145411, 0.00142026, 0.00305557, 0.00112343]),\n",
              " 'test_score': array([0.96491228, 0.98245614, 0.96491228, 0.96491228, 0.98230088])}"
            ]
          },
          "metadata": {},
          "execution_count": 69
        }
      ],
      "source": [
        "estimator = make_pipeline(StandardScaler(), SVC(kernel = 'linear'))\n",
        "\n",
        "cross_validate(\n",
        "    estimator = estimator,\n",
        "    X = X, y = y,\n",
        "    cv = 5,\n",
        "    n_jobs = multiprocessing.cpu_count(),\n",
        "    verbose = True\n",
        ")"
      ]
    },
    {
      "cell_type": "code",
      "execution_count": 70,
      "metadata": {
        "id": "7Wtx4aqQISAb",
        "colab": {
          "base_uri": "https://localhost:8080/"
        },
        "outputId": "e2cce09e-2284-4202-ce33-f6770e1b7f25"
      },
      "outputs": [
        {
          "output_type": "stream",
          "name": "stdout",
          "text": [
            "Fitting 5 folds for each of 6 candidates, totalling 30 fits\n"
          ]
        },
        {
          "output_type": "execute_result",
          "data": {
            "text/plain": [
              "GridSearchCV(cv=5,\n",
              "             estimator=Pipeline(steps=[('scaler', StandardScaler()),\n",
              "                                       ('model', SVC(kernel='linear'))]),\n",
              "             n_jobs=2,\n",
              "             param_grid=[{'model__C': [1.0, 0.1, 0.01],\n",
              "                          'model__gamma': ['scale', 'auto']}],\n",
              "             verbose=True)"
            ]
          },
          "metadata": {},
          "execution_count": 70
        }
      ],
      "source": [
        "pipe = Pipeline([('scaler', StandardScaler()),\n",
        "                     ('model', SVC(kernel = 'linear'))])\n",
        "\n",
        "param_grid = [{'model__gamma': ['scale', 'auto'],\n",
        "               'model__C': [1.0, 0.1, 0.01],}]\n",
        "\n",
        "gs = GridSearchCV(\n",
        "    estimator = pipe,\n",
        "    param_grid = param_grid,\n",
        "    n_jobs = multiprocessing.cpu_count(),\n",
        "    cv = 5,\n",
        "    verbose = True\n",
        ")\n",
        "\n",
        "gs.fit(X,y)"
      ]
    },
    {
      "cell_type": "code",
      "execution_count": 71,
      "metadata": {
        "id": "LvayEt4PISAb",
        "colab": {
          "base_uri": "https://localhost:8080/"
        },
        "outputId": "5cb0aa2c-991b-4a78-c8dd-7c1365ccfc46"
      },
      "outputs": [
        {
          "output_type": "execute_result",
          "data": {
            "text/plain": [
              "Pipeline(steps=[('scaler', StandardScaler()),\n",
              "                ('model', SVC(C=0.1, kernel='linear'))])"
            ]
          },
          "metadata": {},
          "execution_count": 71
        }
      ],
      "source": [
        "gs.best_estimator_ #최적의 값들 알려줌"
      ]
    },
    {
      "cell_type": "code",
      "execution_count": 72,
      "metadata": {
        "id": "Scy1lNeYISAc",
        "colab": {
          "base_uri": "https://localhost:8080/"
        },
        "outputId": "1f16e4a2-da06-4a3d-a66f-8ba6f10bf966"
      },
      "outputs": [
        {
          "output_type": "stream",
          "name": "stdout",
          "text": [
            "학습 데이터 점수: 0.9868131868131869\n",
            "평가 데이터 점수: 0.9649122807017544\n"
          ]
        }
      ],
      "source": [
        "model = gs.best_estimator_\n",
        "model.fit(X_train, y_train)\n",
        "\n",
        "print(\"학습 데이터 점수: {}\".format(model.score(X_train, y_train)))\n",
        "print(\"평가 데이터 점수: {}\".format(model.score(X_test, y_test)))"
      ]
    },
    {
      "cell_type": "markdown",
      "metadata": {
        "id": "jJfcIODbN6ec"
      },
      "source": [
        "### 붓꽃"
      ]
    },
    {
      "cell_type": "code",
      "execution_count": 73,
      "metadata": {
        "id": "I9qdrhHmK9En"
      },
      "outputs": [],
      "source": [
        "X, y = load_iris(return_X_y = True)\n",
        "X_train, X_test, y_train, y_test = train_test_split(X, y, test_size = 0.2)"
      ]
    },
    {
      "cell_type": "code",
      "execution_count": 74,
      "metadata": {
        "id": "d0l_iyVmK9Ep"
      },
      "outputs": [],
      "source": [
        "#전처리 scaling\n",
        "scaler = StandardScaler()\n",
        "scaler.fit(X_train)\n",
        "X_train = scaler.transform(X_train)\n",
        "X_test = scaler.transform(X_test)"
      ]
    },
    {
      "cell_type": "code",
      "execution_count": 75,
      "metadata": {
        "id": "eiiW5a35K9Ep",
        "colab": {
          "base_uri": "https://localhost:8080/"
        },
        "outputId": "ebb3d600-54d1-4b07-9282-17e670274620"
      },
      "outputs": [
        {
          "output_type": "execute_result",
          "data": {
            "text/plain": [
              "SVC(kernel='linear')"
            ]
          },
          "metadata": {},
          "execution_count": 75
        }
      ],
      "source": [
        "#classification: linear SVC\n",
        "model = SVC(kernel = 'linear')\n",
        "model.fit(X_train, y_train)"
      ]
    },
    {
      "cell_type": "code",
      "execution_count": 76,
      "metadata": {
        "id": "hzB3rOJxK9Eq",
        "colab": {
          "base_uri": "https://localhost:8080/"
        },
        "outputId": "1b917884-3595-4ea7-cc83-b4322aa0f1fc"
      },
      "outputs": [
        {
          "output_type": "stream",
          "name": "stdout",
          "text": [
            "학습 데이터 점수: 0.975\n",
            "평가 데이터 점수: 0.9666666666666667\n"
          ]
        }
      ],
      "source": [
        "print(\"학습 데이터 점수: {}\".format(model.score(X_train, y_train)))\n",
        "print(\"평가 데이터 점수: {}\".format(model.score(X_test, y_test)))"
      ]
    },
    {
      "cell_type": "code",
      "execution_count": 77,
      "metadata": {
        "id": "Mo07iw01K9Es",
        "colab": {
          "base_uri": "https://localhost:8080/"
        },
        "outputId": "76d2e14d-52c2-4cb5-e4dc-696dbac9dc02"
      },
      "outputs": [
        {
          "output_type": "stream",
          "name": "stderr",
          "text": [
            "/usr/local/lib/python3.7/dist-packages/sklearn/manifold/_t_sne.py:783: FutureWarning: The default initialization in TSNE will change from 'random' to 'pca' in 1.2.\n",
            "  FutureWarning,\n",
            "/usr/local/lib/python3.7/dist-packages/sklearn/manifold/_t_sne.py:793: FutureWarning: The default learning rate in TSNE will change from 200.0 to 'auto' in 1.2.\n",
            "  FutureWarning,\n"
          ]
        }
      ],
      "source": [
        "X_comp = TSNE(n_components = 2).fit_transform(X)\n",
        "X0, X1 = X_comp[:, 0], X_comp[:, 1]\n",
        "xx, yy = make_meshgrid(X0, X1)"
      ]
    },
    {
      "cell_type": "code",
      "execution_count": 78,
      "metadata": {
        "id": "mKFLMOrsK9Es",
        "colab": {
          "base_uri": "https://localhost:8080/",
          "height": 280
        },
        "outputId": "eb5b1f7a-021f-4651-dba8-31046a9bf98f"
      },
      "outputs": [
        {
          "output_type": "execute_result",
          "data": {
            "text/plain": [
              "<matplotlib.collections.PathCollection at 0x7ff9a9841d90>"
            ]
          },
          "metadata": {},
          "execution_count": 78
        },
        {
          "output_type": "display_data",
          "data": {
            "text/plain": [
              "<Figure size 432x288 with 1 Axes>"
            ],
            "image/png": "[encoded data removed]"
          },
          "metadata": {}
        }
      ],
      "source": [
        "model.fit(X_comp, y)\n",
        "\n",
        "plot_contours(model, xx, yy, cmap = plt.cm.coolwarm, alpha = 0.7)\n",
        "plt.scatter(X0, X1, c = y, cmap = plt.cm.coolwarm, s = 20, edgecolors = 'k')"
      ]
    },
    {
      "cell_type": "code",
      "execution_count": 79,
      "metadata": {
        "id": "Q3jV4ArhK9Et",
        "colab": {
          "base_uri": "https://localhost:8080/"
        },
        "outputId": "8e7ff145-b83d-48d7-e3d2-296f420673d1"
      },
      "outputs": [
        {
          "output_type": "stream",
          "name": "stderr",
          "text": [
            "[Parallel(n_jobs=2)]: Using backend LokyBackend with 2 concurrent workers.\n",
            "[Parallel(n_jobs=2)]: Done   5 out of   5 | elapsed:    0.0s finished\n"
          ]
        },
        {
          "output_type": "execute_result",
          "data": {
            "text/plain": [
              "{'fit_time': array([0.00253153, 0.0037694 , 0.00274467, 0.00171757, 0.00217605]),\n",
              " 'score_time': array([0.00204682, 0.00140905, 0.00095463, 0.00132108, 0.00064802]),\n",
              " 'test_score': array([0.96666667, 1.        , 0.93333333, 0.93333333, 1.        ])}"
            ]
          },
          "metadata": {},
          "execution_count": 79
        }
      ],
      "source": [
        "estimator = make_pipeline(StandardScaler(), SVC(kernel = 'linear'))\n",
        "\n",
        "#cross validation\n",
        "cross_validate(\n",
        "    estimator = estimator,\n",
        "    X = X, y = y,\n",
        "    cv = 5,\n",
        "    n_jobs = multiprocessing.cpu_count(),\n",
        "    verbose = True\n",
        ")"
      ]
    },
    {
      "cell_type": "code",
      "execution_count": 80,
      "metadata": {
        "id": "i902tmkVK9Et",
        "colab": {
          "base_uri": "https://localhost:8080/"
        },
        "outputId": "e2ba7aad-c0bf-4cbe-e42f-0bb06b1e1da7"
      },
      "outputs": [
        {
          "output_type": "stream",
          "name": "stdout",
          "text": [
            "Fitting 5 folds for each of 6 candidates, totalling 30 fits\n"
          ]
        },
        {
          "output_type": "execute_result",
          "data": {
            "text/plain": [
              "GridSearchCV(cv=5,\n",
              "             estimator=Pipeline(steps=[('scaler', StandardScaler()),\n",
              "                                       ('model', SVC(kernel='linear'))]),\n",
              "             n_jobs=2,\n",
              "             param_grid=[{'model__C': [1.0, 0.1, 0.01],\n",
              "                          'model__gamma': ['scale', 'auto']}],\n",
              "             verbose=True)"
            ]
          },
          "metadata": {},
          "execution_count": 80
        }
      ],
      "source": [
        "pipe = Pipeline([('scaler', StandardScaler()),\n",
        "                     ('model', SVC(kernel = 'linear'))])\n",
        "\n",
        "param_grid = [{'model__gamma': ['scale', 'auto'],\n",
        "               'model__C': [1.0, 0.1, 0.01],}]\n",
        "\n",
        "gs = GridSearchCV(\n",
        "    estimator = pipe,\n",
        "    param_grid = param_grid,\n",
        "    n_jobs = multiprocessing.cpu_count(),\n",
        "    cv = 5,\n",
        "    verbose = True\n",
        ")\n",
        "\n",
        "gs.fit(X,y)"
      ]
    },
    {
      "cell_type": "code",
      "execution_count": 81,
      "metadata": {
        "id": "rGzCdP-xK9Eu",
        "colab": {
          "base_uri": "https://localhost:8080/"
        },
        "outputId": "847d29c1-275e-4634-9286-31b79427ee86"
      },
      "outputs": [
        {
          "output_type": "execute_result",
          "data": {
            "text/plain": [
              "Pipeline(steps=[('scaler', StandardScaler()), ('model', SVC(kernel='linear'))])"
            ]
          },
          "metadata": {},
          "execution_count": 81
        }
      ],
      "source": [
        "gs.best_estimator_ #최적의 값들 알려줌"
      ]
    },
    {
      "cell_type": "code",
      "execution_count": 82,
      "metadata": {
        "id": "e7BwIC4rK9Eu",
        "colab": {
          "base_uri": "https://localhost:8080/"
        },
        "outputId": "4e979acf-7e89-41a3-84cf-648d524daa9f"
      },
      "outputs": [
        {
          "output_type": "stream",
          "name": "stdout",
          "text": [
            "학습 데이터 점수: 0.975\n",
            "평가 데이터 점수: 0.9666666666666667\n"
          ]
        }
      ],
      "source": [
        "model = gs.best_estimator_\n",
        "model.fit(X_train, y_train)\n",
        "\n",
        "print(\"학습 데이터 점수: {}\".format(model.score(X_train, y_train)))\n",
        "print(\"평가 데이터 점수: {}\".format(model.score(X_test, y_test)))"
      ]
    },
    {
      "cell_type": "markdown",
      "metadata": {
        "id": "fGErBCXR3P_p"
      },
      "source": [
        "### 와인"
      ]
    },
    {
      "cell_type": "code",
      "execution_count": 83,
      "metadata": {
        "id": "zVo7aLK2Lq3l"
      },
      "outputs": [],
      "source": [
        "X, y = load_wine(return_X_y = True)\n",
        "X_train, X_test, y_train, y_test = train_test_split(X, y, test_size = 0.2)"
      ]
    },
    {
      "cell_type": "code",
      "execution_count": 84,
      "metadata": {
        "id": "4bgIsAhiLq3m"
      },
      "outputs": [],
      "source": [
        "#전처리 scaling\n",
        "scaler = StandardScaler()\n",
        "scaler.fit(X_train)\n",
        "X_train = scaler.transform(X_train)\n",
        "X_test = scaler.transform(X_test)"
      ]
    },
    {
      "cell_type": "code",
      "execution_count": 85,
      "metadata": {
        "id": "jCERFsCFLq3t",
        "colab": {
          "base_uri": "https://localhost:8080/"
        },
        "outputId": "a8755dab-16a3-4cc0-b9ec-408768b5b00b"
      },
      "outputs": [
        {
          "output_type": "execute_result",
          "data": {
            "text/plain": [
              "SVC(kernel='linear')"
            ]
          },
          "metadata": {},
          "execution_count": 85
        }
      ],
      "source": [
        "#classification: linear SVC\n",
        "model = SVC(kernel = 'linear')\n",
        "model.fit(X_train, y_train)"
      ]
    },
    {
      "cell_type": "code",
      "execution_count": 86,
      "metadata": {
        "id": "pDADD5BULq3u",
        "colab": {
          "base_uri": "https://localhost:8080/"
        },
        "outputId": "8c9f7d11-8c0d-4b77-d60d-552054d580c2"
      },
      "outputs": [
        {
          "output_type": "stream",
          "name": "stdout",
          "text": [
            "학습 데이터 점수: 1.0\n",
            "평가 데이터 점수: 1.0\n"
          ]
        }
      ],
      "source": [
        "print(\"학습 데이터 점수: {}\".format(model.score(X_train, y_train)))\n",
        "print(\"평가 데이터 점수: {}\".format(model.score(X_test, y_test)))"
      ]
    },
    {
      "cell_type": "code",
      "execution_count": 87,
      "metadata": {
        "id": "EAtwOTgOLq3w",
        "colab": {
          "base_uri": "https://localhost:8080/"
        },
        "outputId": "b20f5d9e-2549-4c11-fd21-4987fa44489e"
      },
      "outputs": [
        {
          "output_type": "stream",
          "name": "stderr",
          "text": [
            "/usr/local/lib/python3.7/dist-packages/sklearn/manifold/_t_sne.py:783: FutureWarning: The default initialization in TSNE will change from 'random' to 'pca' in 1.2.\n",
            "  FutureWarning,\n",
            "/usr/local/lib/python3.7/dist-packages/sklearn/manifold/_t_sne.py:793: FutureWarning: The default learning rate in TSNE will change from 200.0 to 'auto' in 1.2.\n",
            "  FutureWarning,\n"
          ]
        }
      ],
      "source": [
        "X_comp = TSNE(n_components = 2).fit_transform(X)\n",
        "X0, X1 = X_comp[:, 0], X_comp[:, 1]\n",
        "xx, yy = make_meshgrid(X0, X1)"
      ]
    },
    {
      "cell_type": "code",
      "execution_count": 88,
      "metadata": {
        "id": "lCJ7vdHZLq3w",
        "colab": {
          "base_uri": "https://localhost:8080/",
          "height": 280
        },
        "outputId": "07c21b6e-d5ab-4e91-e6e3-48c6437005bc"
      },
      "outputs": [
        {
          "output_type": "execute_result",
          "data": {
            "text/plain": [
              "<matplotlib.collections.PathCollection at 0x7ff9a5c3eb90>"
            ]
          },
          "metadata": {},
          "execution_count": 88
        },
        {
          "output_type": "display_data",
          "data": {
            "text/plain": [
              "<Figure size 432x288 with 1 Axes>"
            ],
            "image/png": "[encoded data removed]"
          },
          "metadata": {}
        }
      ],
      "source": [
        "model.fit(X_comp, y)\n",
        "\n",
        "plot_contours(model, xx, yy, cmap = plt.cm.coolwarm, alpha = 0.7)\n",
        "plt.scatter(X0, X1, c = y, cmap = plt.cm.coolwarm, s = 20, edgecolors = 'k')"
      ]
    },
    {
      "cell_type": "code",
      "execution_count": 89,
      "metadata": {
        "id": "KI7EsLFvLq3y",
        "colab": {
          "base_uri": "https://localhost:8080/"
        },
        "outputId": "7e5f0474-e9b6-4020-d881-dbdee4fc63d5"
      },
      "outputs": [
        {
          "output_type": "stream",
          "name": "stderr",
          "text": [
            "[Parallel(n_jobs=2)]: Using backend LokyBackend with 2 concurrent workers.\n",
            "[Parallel(n_jobs=2)]: Done   5 out of   5 | elapsed:    0.0s finished\n"
          ]
        },
        {
          "output_type": "execute_result",
          "data": {
            "text/plain": [
              "{'fit_time': array([0.01516318, 0.00359368, 0.00965834, 0.00344276, 0.00300908]),\n",
              " 'score_time': array([0.00121617, 0.00104237, 0.00111127, 0.00107169, 0.00059795]),\n",
              " 'test_score': array([0.94444444, 0.97222222, 0.97222222, 0.97142857, 0.94285714])}"
            ]
          },
          "metadata": {},
          "execution_count": 89
        }
      ],
      "source": [
        "estimator = make_pipeline(StandardScaler(), SVC(kernel = 'linear'))\n",
        "\n",
        "cross_validate(\n",
        "    estimator = estimator,\n",
        "    X = X, y = y,\n",
        "    cv = 5,\n",
        "    n_jobs = multiprocessing.cpu_count(),\n",
        "    verbose = True\n",
        ")"
      ]
    },
    {
      "cell_type": "code",
      "execution_count": 90,
      "metadata": {
        "id": "JIoJNlvSLq3z",
        "colab": {
          "base_uri": "https://localhost:8080/"
        },
        "outputId": "77350b25-b452-44f9-b2a8-609406e4ce50"
      },
      "outputs": [
        {
          "output_type": "stream",
          "name": "stdout",
          "text": [
            "Fitting 5 folds for each of 6 candidates, totalling 30 fits\n"
          ]
        },
        {
          "output_type": "execute_result",
          "data": {
            "text/plain": [
              "GridSearchCV(cv=5,\n",
              "             estimator=Pipeline(steps=[('scaler', StandardScaler()),\n",
              "                                       ('model', SVC(kernel='linear'))]),\n",
              "             n_jobs=2,\n",
              "             param_grid=[{'model__C': [1.0, 0.1, 0.01],\n",
              "                          'model__gamma': ['scale', 'auto']}],\n",
              "             verbose=True)"
            ]
          },
          "metadata": {},
          "execution_count": 90
        }
      ],
      "source": [
        "pipe = Pipeline([('scaler', StandardScaler()),\n",
        "                     ('model', SVC(kernel = 'linear'))])\n",
        "\n",
        "param_grid = [{'model__gamma': ['scale', 'auto'],\n",
        "               'model__C': [1.0, 0.1, 0.01],}]\n",
        "\n",
        "gs = GridSearchCV(\n",
        "    estimator = pipe,\n",
        "    param_grid = param_grid,\n",
        "    n_jobs = multiprocessing.cpu_count(),\n",
        "    cv = 5,\n",
        "    verbose = True\n",
        ")\n",
        "\n",
        "gs.fit(X,y)"
      ]
    },
    {
      "cell_type": "code",
      "execution_count": 91,
      "metadata": {
        "id": "Cy_8DJXHLq37",
        "colab": {
          "base_uri": "https://localhost:8080/"
        },
        "outputId": "c7b0fb6f-a382-40de-d1de-4ec231ea3071"
      },
      "outputs": [
        {
          "output_type": "execute_result",
          "data": {
            "text/plain": [
              "Pipeline(steps=[('scaler', StandardScaler()),\n",
              "                ('model', SVC(C=0.1, kernel='linear'))])"
            ]
          },
          "metadata": {},
          "execution_count": 91
        }
      ],
      "source": [
        "gs.best_estimator_ #최적의 값들 알려줌"
      ]
    },
    {
      "cell_type": "code",
      "execution_count": 92,
      "metadata": {
        "id": "xdOYdz5kLq37",
        "colab": {
          "base_uri": "https://localhost:8080/"
        },
        "outputId": "1062d62b-a528-4143-ec77-85cdc3cf4a96"
      },
      "outputs": [
        {
          "output_type": "stream",
          "name": "stdout",
          "text": [
            "학습 데이터 점수: 1.0\n",
            "평가 데이터 점수: 1.0\n"
          ]
        }
      ],
      "source": [
        "model = gs.best_estimator_\n",
        "model.fit(X_train, y_train)\n",
        "\n",
        "print(\"학습 데이터 점수: {}\".format(model.score(X_train, y_train)))\n",
        "print(\"평가 데이터 점수: {}\".format(model.score(X_test, y_test)))"
      ]
    },
    {
      "cell_type": "markdown",
      "metadata": {
        "id": "NKavNYlxN1fB"
      },
      "source": [
        "## Kernel SVC"
      ]
    },
    {
      "cell_type": "markdown",
      "metadata": {
        "id": "M7QkeGrdOAxV"
      },
      "source": [
        "### 유방암"
      ]
    },
    {
      "cell_type": "code",
      "execution_count": 93,
      "metadata": {
        "id": "lxgV4gKfMXXG"
      },
      "outputs": [],
      "source": [
        "X, y = load_breast_cancer(return_X_y = True)\n",
        "X_train, X_test, y_train, y_test = train_test_split(X, y, test_size = 0.2)"
      ]
    },
    {
      "cell_type": "code",
      "execution_count": 94,
      "metadata": {
        "id": "yf6lxJiIMXXI"
      },
      "outputs": [],
      "source": [
        "#전처리 scaling\n",
        "scaler = StandardScaler()\n",
        "scaler.fit(X_train)\n",
        "X_train = scaler.transform(X_train)\n",
        "X_test = scaler.transform(X_test)"
      ]
    },
    {
      "cell_type": "code",
      "execution_count": 95,
      "metadata": {
        "id": "TrDELRHbMXXJ",
        "colab": {
          "base_uri": "https://localhost:8080/"
        },
        "outputId": "312f2f94-9216-4c49-b6d4-34b5a1e8d249"
      },
      "outputs": [
        {
          "output_type": "execute_result",
          "data": {
            "text/plain": [
              "SVC()"
            ]
          },
          "metadata": {},
          "execution_count": 95
        }
      ],
      "source": [
        "model = SVC(kernel = 'rbf')\n",
        "model.fit(X_train, y_train)"
      ]
    },
    {
      "cell_type": "code",
      "execution_count": 96,
      "metadata": {
        "id": "0SkqiMYPMXXK",
        "colab": {
          "base_uri": "https://localhost:8080/"
        },
        "outputId": "fdb4e19d-4134-4e3b-d230-ed823c435281"
      },
      "outputs": [
        {
          "output_type": "stream",
          "name": "stdout",
          "text": [
            "학습 데이터 점수: 0.9934065934065934\n",
            "평가 데이터 점수: 0.9649122807017544\n"
          ]
        }
      ],
      "source": [
        "print(\"학습 데이터 점수: {}\".format(model.score(X_train, y_train)))\n",
        "print(\"평가 데이터 점수: {}\".format(model.score(X_test, y_test)))"
      ]
    },
    {
      "cell_type": "code",
      "execution_count": 97,
      "metadata": {
        "id": "Bfm9Ok4tMXXM",
        "colab": {
          "base_uri": "https://localhost:8080/"
        },
        "outputId": "91ce9f82-3670-4602-e51e-b82dd3b8c75f"
      },
      "outputs": [
        {
          "output_type": "stream",
          "name": "stderr",
          "text": [
            "/usr/local/lib/python3.7/dist-packages/sklearn/manifold/_t_sne.py:783: FutureWarning: The default initialization in TSNE will change from 'random' to 'pca' in 1.2.\n",
            "  FutureWarning,\n",
            "/usr/local/lib/python3.7/dist-packages/sklearn/manifold/_t_sne.py:793: FutureWarning: The default learning rate in TSNE will change from 200.0 to 'auto' in 1.2.\n",
            "  FutureWarning,\n"
          ]
        }
      ],
      "source": [
        "X_comp = TSNE(n_components = 2).fit_transform(X)\n",
        "X0, X1 = X_comp[:, 0], X_comp[:, 1]\n",
        "xx, yy = make_meshgrid(X0, X1)"
      ]
    },
    {
      "cell_type": "code",
      "execution_count": 98,
      "metadata": {
        "id": "-Eub3HUSMXXM",
        "colab": {
          "base_uri": "https://localhost:8080/",
          "height": 280
        },
        "outputId": "575d0bc7-d036-47af-fb05-f0b718f4580d"
      },
      "outputs": [
        {
          "output_type": "execute_result",
          "data": {
            "text/plain": [
              "<matplotlib.collections.PathCollection at 0x7ff9a5bca150>"
            ]
          },
          "metadata": {},
          "execution_count": 98
        },
        {
          "output_type": "display_data",
          "data": {
            "text/plain": [
              "<Figure size 432x288 with 1 Axes>"
            ],
            "image/png": "[encoded data removed]"
          },
          "metadata": {}
        }
      ],
      "source": [
        "model.fit(X_comp, y)\n",
        "\n",
        "plot_contours(model, xx, yy, cmap = plt.cm.coolwarm, alpha = 0.7)\n",
        "plt.scatter(X0, X1, c = y, cmap = plt.cm.coolwarm, s = 20, edgecolors = 'k')"
      ]
    },
    {
      "cell_type": "code",
      "execution_count": 99,
      "metadata": {
        "id": "7hySEu5MMXXN",
        "colab": {
          "base_uri": "https://localhost:8080/"
        },
        "outputId": "3d1a8970-0969-4c29-9ead-9df3785a9bb9"
      },
      "outputs": [
        {
          "output_type": "stream",
          "name": "stderr",
          "text": [
            "[Parallel(n_jobs=2)]: Using backend LokyBackend with 2 concurrent workers.\n",
            "[Parallel(n_jobs=2)]: Done   5 out of   5 | elapsed:    0.1s finished\n"
          ]
        },
        {
          "output_type": "execute_result",
          "data": {
            "text/plain": [
              "{'fit_time': array([0.01070595, 0.0132122 , 0.01050901, 0.01243973, 0.00824666]),\n",
              " 'score_time': array([0.00342965, 0.0032692 , 0.00524783, 0.00336313, 0.00189662]),\n",
              " 'test_score': array([0.97368421, 0.95614035, 1.        , 0.96491228, 0.97345133])}"
            ]
          },
          "metadata": {},
          "execution_count": 99
        }
      ],
      "source": [
        "estimator = make_pipeline(StandardScaler(), SVC(kernel = 'rbf'))\n",
        "\n",
        "cross_validate(\n",
        "    estimator = estimator,\n",
        "    X = X, y = y,\n",
        "    cv = 5,\n",
        "    n_jobs = multiprocessing.cpu_count(),\n",
        "    verbose = True\n",
        ")"
      ]
    },
    {
      "cell_type": "code",
      "execution_count": 100,
      "metadata": {
        "id": "eKZcu30UMXXP",
        "colab": {
          "base_uri": "https://localhost:8080/"
        },
        "outputId": "5b42382a-7b32-47bc-ab48-c3f92e421d9f"
      },
      "outputs": [
        {
          "output_type": "stream",
          "name": "stdout",
          "text": [
            "Fitting 5 folds for each of 6 candidates, totalling 30 fits\n"
          ]
        },
        {
          "output_type": "execute_result",
          "data": {
            "text/plain": [
              "GridSearchCV(cv=5,\n",
              "             estimator=Pipeline(steps=[('scaler', StandardScaler()),\n",
              "                                       ('model', SVC())]),\n",
              "             n_jobs=2,\n",
              "             param_grid=[{'model__C': [1.0, 0.1, 0.01],\n",
              "                          'model__gamma': ['scale', 'auto']}],\n",
              "             verbose=True)"
            ]
          },
          "metadata": {},
          "execution_count": 100
        }
      ],
      "source": [
        "pipe = Pipeline([('scaler', StandardScaler()),\n",
        "                     ('model', SVC(kernel = 'rbf'))])\n",
        "\n",
        "param_grid = [{'model__gamma': ['scale', 'auto'],\n",
        "               'model__C': [1.0, 0.1, 0.01],}]\n",
        "\n",
        "gs = GridSearchCV(\n",
        "    estimator = pipe,\n",
        "    param_grid = param_grid,\n",
        "    n_jobs = multiprocessing.cpu_count(),\n",
        "    cv = 5,\n",
        "    verbose = True\n",
        ")\n",
        "\n",
        "gs.fit(X,y)"
      ]
    },
    {
      "cell_type": "code",
      "execution_count": 101,
      "metadata": {
        "id": "cmAEwmKaMXXQ",
        "colab": {
          "base_uri": "https://localhost:8080/"
        },
        "outputId": "38b39151-2447-417a-e732-17b1e2baf685"
      },
      "outputs": [
        {
          "output_type": "execute_result",
          "data": {
            "text/plain": [
              "Pipeline(steps=[('scaler', StandardScaler()), ('model', SVC())])"
            ]
          },
          "metadata": {},
          "execution_count": 101
        }
      ],
      "source": [
        "gs.best_estimator_ #최적의 값들 알려줌"
      ]
    },
    {
      "cell_type": "code",
      "execution_count": 102,
      "metadata": {
        "id": "Wpkiy39yMXXR",
        "colab": {
          "base_uri": "https://localhost:8080/"
        },
        "outputId": "cc26f9da-90b7-4ad0-82d1-d4238a8c177b"
      },
      "outputs": [
        {
          "output_type": "stream",
          "name": "stdout",
          "text": [
            "학습 데이터 점수: 0.9934065934065934\n",
            "평가 데이터 점수: 0.9649122807017544\n"
          ]
        }
      ],
      "source": [
        "model = gs.best_estimator_\n",
        "model.fit(X_train, y_train)\n",
        "\n",
        "print(\"학습 데이터 점수: {}\".format(model.score(X_train, y_train)))\n",
        "print(\"평가 데이터 점수: {}\".format(model.score(X_test, y_test)))"
      ]
    },
    {
      "cell_type": "markdown",
      "metadata": {
        "id": "8488abTBN-GA"
      },
      "source": [
        "### 붓꽃"
      ]
    },
    {
      "cell_type": "code",
      "execution_count": 103,
      "metadata": {
        "id": "jHu96hhyNTcn"
      },
      "outputs": [],
      "source": [
        "X, y = load_iris(return_X_y = True)\n",
        "X_train, X_test, y_train, y_test = train_test_split(X, y, test_size = 0.2)"
      ]
    },
    {
      "cell_type": "code",
      "execution_count": 104,
      "metadata": {
        "id": "TXkKOnchNTcp"
      },
      "outputs": [],
      "source": [
        "#전처리 scaling\n",
        "scaler = StandardScaler()\n",
        "scaler.fit(X_train)\n",
        "X_train = scaler.transform(X_train)\n",
        "X_test = scaler.transform(X_test)"
      ]
    },
    {
      "cell_type": "code",
      "execution_count": 105,
      "metadata": {
        "id": "pA2C2_PTNTcp",
        "colab": {
          "base_uri": "https://localhost:8080/"
        },
        "outputId": "0aee1208-48e8-41ca-89ba-857687d4fde9"
      },
      "outputs": [
        {
          "output_type": "execute_result",
          "data": {
            "text/plain": [
              "SVC()"
            ]
          },
          "metadata": {},
          "execution_count": 105
        }
      ],
      "source": [
        "model = SVC(kernel = 'rbf')\n",
        "model.fit(X_train, y_train)"
      ]
    },
    {
      "cell_type": "code",
      "execution_count": 106,
      "metadata": {
        "id": "HlxbEhfGNTcq",
        "colab": {
          "base_uri": "https://localhost:8080/"
        },
        "outputId": "36c95805-5843-44bb-def5-6f0baee8f42d"
      },
      "outputs": [
        {
          "output_type": "stream",
          "name": "stdout",
          "text": [
            "학습 데이터 점수: 0.975\n",
            "평가 데이터 점수: 0.9\n"
          ]
        }
      ],
      "source": [
        "print(\"학습 데이터 점수: {}\".format(model.score(X_train, y_train)))\n",
        "print(\"평가 데이터 점수: {}\".format(model.score(X_test, y_test)))"
      ]
    },
    {
      "cell_type": "code",
      "execution_count": 107,
      "metadata": {
        "id": "oaBEZ6U1NTcq",
        "colab": {
          "base_uri": "https://localhost:8080/"
        },
        "outputId": "40fa3e07-a6a5-4ab3-db02-52ccd9c3cc84"
      },
      "outputs": [
        {
          "output_type": "stream",
          "name": "stderr",
          "text": [
            "/usr/local/lib/python3.7/dist-packages/sklearn/manifold/_t_sne.py:783: FutureWarning: The default initialization in TSNE will change from 'random' to 'pca' in 1.2.\n",
            "  FutureWarning,\n",
            "/usr/local/lib/python3.7/dist-packages/sklearn/manifold/_t_sne.py:793: FutureWarning: The default learning rate in TSNE will change from 200.0 to 'auto' in 1.2.\n",
            "  FutureWarning,\n"
          ]
        }
      ],
      "source": [
        "X_comp = TSNE(n_components = 2).fit_transform(X)\n",
        "X0, X1 = X_comp[:, 0], X_comp[:, 1]\n",
        "xx, yy = make_meshgrid(X0, X1)"
      ]
    },
    {
      "cell_type": "code",
      "execution_count": 108,
      "metadata": {
        "id": "bZwLRYm_NTcq",
        "colab": {
          "base_uri": "https://localhost:8080/",
          "height": 280
        },
        "outputId": "ec8000da-0f90-4734-db2b-7c622e346863"
      },
      "outputs": [
        {
          "output_type": "execute_result",
          "data": {
            "text/plain": [
              "<matplotlib.collections.PathCollection at 0x7ff9a5b59550>"
            ]
          },
          "metadata": {},
          "execution_count": 108
        },
        {
          "output_type": "display_data",
          "data": {
            "text/plain": [
              "<Figure size 432x288 with 1 Axes>"
            ],
            "image/png": "[encoded data removed]"
          },
          "metadata": {}
        }
      ],
      "source": [
        "model.fit(X_comp, y)\n",
        "\n",
        "plot_contours(model, xx, yy, cmap = plt.cm.coolwarm, alpha = 0.7)\n",
        "plt.scatter(X0, X1, c = y, cmap = plt.cm.coolwarm, s = 20, edgecolors = 'k')"
      ]
    },
    {
      "cell_type": "code",
      "execution_count": 109,
      "metadata": {
        "id": "-d2qTM9qNTcr",
        "colab": {
          "base_uri": "https://localhost:8080/"
        },
        "outputId": "8d04a519-36c8-4e70-d5c9-04614dc8f4c6"
      },
      "outputs": [
        {
          "output_type": "stream",
          "name": "stderr",
          "text": [
            "[Parallel(n_jobs=2)]: Using backend LokyBackend with 2 concurrent workers.\n",
            "[Parallel(n_jobs=2)]: Done   5 out of   5 | elapsed:    0.0s finished\n"
          ]
        },
        {
          "output_type": "execute_result",
          "data": {
            "text/plain": [
              "{'fit_time': array([0.00458384, 0.004848  , 0.0068922 , 0.00234413, 0.00202537]),\n",
              " 'score_time': array([0.0013895 , 0.00107074, 0.00122046, 0.0010035 , 0.00069618]),\n",
              " 'test_score': array([0.96666667, 0.96666667, 0.96666667, 0.93333333, 1.        ])}"
            ]
          },
          "metadata": {},
          "execution_count": 109
        }
      ],
      "source": [
        "estimator = make_pipeline(StandardScaler(), SVC(kernel = 'rbf'))\n",
        "\n",
        "cross_validate(\n",
        "    estimator = estimator,\n",
        "    X = X, y = y,\n",
        "    cv = 5,\n",
        "    n_jobs = multiprocessing.cpu_count(),\n",
        "    verbose = True\n",
        ")"
      ]
    },
    {
      "cell_type": "code",
      "execution_count": 110,
      "metadata": {
        "id": "iWybeFd_NTcr",
        "colab": {
          "base_uri": "https://localhost:8080/"
        },
        "outputId": "8299b37f-c25e-4f91-8494-1091211ba72f"
      },
      "outputs": [
        {
          "output_type": "stream",
          "name": "stdout",
          "text": [
            "Fitting 5 folds for each of 6 candidates, totalling 30 fits\n"
          ]
        },
        {
          "output_type": "execute_result",
          "data": {
            "text/plain": [
              "GridSearchCV(cv=5,\n",
              "             estimator=Pipeline(steps=[('scaler', StandardScaler()),\n",
              "                                       ('model', SVC())]),\n",
              "             n_jobs=2,\n",
              "             param_grid=[{'model__C': [1.0, 0.1, 0.01],\n",
              "                          'model__gamma': ['scale', 'auto']}],\n",
              "             verbose=True)"
            ]
          },
          "metadata": {},
          "execution_count": 110
        }
      ],
      "source": [
        "pipe = Pipeline([('scaler', StandardScaler()),\n",
        "                     ('model', SVC(kernel = 'rbf'))])\n",
        "\n",
        "param_grid = [{'model__gamma': ['scale', 'auto'],\n",
        "               'model__C': [1.0, 0.1, 0.01],}]\n",
        "\n",
        "gs = GridSearchCV(\n",
        "    estimator = pipe,\n",
        "    param_grid = param_grid,\n",
        "    n_jobs = multiprocessing.cpu_count(),\n",
        "    cv = 5,\n",
        "    verbose = True\n",
        ")\n",
        "\n",
        "gs.fit(X,y)"
      ]
    },
    {
      "cell_type": "code",
      "execution_count": 111,
      "metadata": {
        "id": "ZJqtPf9HNTcr",
        "colab": {
          "base_uri": "https://localhost:8080/"
        },
        "outputId": "a8dd1647-a341-45c3-8ede-445185a6bbfd"
      },
      "outputs": [
        {
          "output_type": "execute_result",
          "data": {
            "text/plain": [
              "Pipeline(steps=[('scaler', StandardScaler()), ('model', SVC())])"
            ]
          },
          "metadata": {},
          "execution_count": 111
        }
      ],
      "source": [
        "gs.best_estimator_ #최적의 값들 알려줌"
      ]
    },
    {
      "cell_type": "code",
      "execution_count": 112,
      "metadata": {
        "id": "aVK1NrYaNTcs",
        "colab": {
          "base_uri": "https://localhost:8080/"
        },
        "outputId": "f5ec97a8-66f2-4080-fbe0-efe6cb0bf99a"
      },
      "outputs": [
        {
          "output_type": "stream",
          "name": "stdout",
          "text": [
            "학습 데이터 점수: 0.975\n",
            "평가 데이터 점수: 0.9\n"
          ]
        }
      ],
      "source": [
        "model = gs.best_estimator_\n",
        "model.fit(X_train, y_train)\n",
        "\n",
        "print(\"학습 데이터 점수: {}\".format(model.score(X_train, y_train)))\n",
        "print(\"평가 데이터 점수: {}\".format(model.score(X_test, y_test)))"
      ]
    },
    {
      "cell_type": "markdown",
      "metadata": {
        "id": "nidX5eMZ3ncE"
      },
      "source": [
        "### 와인"
      ]
    },
    {
      "cell_type": "code",
      "execution_count": 113,
      "metadata": {
        "id": "q63K3XPRNVHc"
      },
      "outputs": [],
      "source": [
        "X, y = load_wine(return_X_y = True)\n",
        "X_train, X_test, y_train, y_test = train_test_split(X, y, test_size = 0.2)"
      ]
    },
    {
      "cell_type": "code",
      "execution_count": 114,
      "metadata": {
        "id": "h9b7ToOiNVHc"
      },
      "outputs": [],
      "source": [
        "#전처리 scaling\n",
        "scaler = StandardScaler()\n",
        "scaler.fit(X_train)\n",
        "X_train = scaler.transform(X_train)\n",
        "X_test = scaler.transform(X_test)"
      ]
    },
    {
      "cell_type": "code",
      "execution_count": 115,
      "metadata": {
        "id": "Fnd-uojdNVHd",
        "colab": {
          "base_uri": "https://localhost:8080/"
        },
        "outputId": "cfbc24d3-ef8f-4dc6-d20c-2f2b6b167ea5"
      },
      "outputs": [
        {
          "output_type": "execute_result",
          "data": {
            "text/plain": [
              "SVC()"
            ]
          },
          "metadata": {},
          "execution_count": 115
        }
      ],
      "source": [
        "model = SVC(kernel = 'rbf')\n",
        "model.fit(X_train, y_train)"
      ]
    },
    {
      "cell_type": "code",
      "execution_count": 116,
      "metadata": {
        "id": "5Z8VhDk1NVHd",
        "colab": {
          "base_uri": "https://localhost:8080/"
        },
        "outputId": "41b108bd-f640-4355-8555-6f54cde5f560"
      },
      "outputs": [
        {
          "output_type": "stream",
          "name": "stdout",
          "text": [
            "학습 데이터 점수: 0.9929577464788732\n",
            "평가 데이터 점수: 0.9722222222222222\n"
          ]
        }
      ],
      "source": [
        "print(\"학습 데이터 점수: {}\".format(model.score(X_train, y_train)))\n",
        "print(\"평가 데이터 점수: {}\".format(model.score(X_test, y_test)))"
      ]
    },
    {
      "cell_type": "code",
      "execution_count": 117,
      "metadata": {
        "id": "eSDV2Q1bNVHd",
        "colab": {
          "base_uri": "https://localhost:8080/"
        },
        "outputId": "3a988e91-f9ac-4548-ac0b-ae505fa26e25"
      },
      "outputs": [
        {
          "output_type": "stream",
          "name": "stderr",
          "text": [
            "/usr/local/lib/python3.7/dist-packages/sklearn/manifold/_t_sne.py:783: FutureWarning: The default initialization in TSNE will change from 'random' to 'pca' in 1.2.\n",
            "  FutureWarning,\n",
            "/usr/local/lib/python3.7/dist-packages/sklearn/manifold/_t_sne.py:793: FutureWarning: The default learning rate in TSNE will change from 200.0 to 'auto' in 1.2.\n",
            "  FutureWarning,\n"
          ]
        }
      ],
      "source": [
        "X_comp = TSNE(n_components = 2).fit_transform(X)\n",
        "X0, X1 = X_comp[:, 0], X_comp[:, 1]\n",
        "xx, yy = make_meshgrid(X0, X1)"
      ]
    },
    {
      "cell_type": "code",
      "execution_count": 118,
      "metadata": {
        "id": "nqTsxposNVHd",
        "colab": {
          "base_uri": "https://localhost:8080/",
          "height": 280
        },
        "outputId": "ded9bc8a-39a7-441e-9ed0-70b630be2277"
      },
      "outputs": [
        {
          "output_type": "execute_result",
          "data": {
            "text/plain": [
              "<matplotlib.collections.PathCollection at 0x7ff9a5a60510>"
            ]
          },
          "metadata": {},
          "execution_count": 118
        },
        {
          "output_type": "display_data",
          "data": {
            "text/plain": [
              "<Figure size 432x288 with 1 Axes>"
            ],
            "image/png": "[encoded data removed]"
          },
          "metadata": {}
        }
      ],
      "source": [
        "model.fit(X_comp, y)\n",
        "\n",
        "plot_contours(model, xx, yy, cmap = plt.cm.coolwarm, alpha = 0.7)\n",
        "plt.scatter(X0, X1, c = y, cmap = plt.cm.coolwarm, s = 20, edgecolors = 'k')"
      ]
    },
    {
      "cell_type": "code",
      "execution_count": 119,
      "metadata": {
        "id": "dPUixV98NVHd",
        "colab": {
          "base_uri": "https://localhost:8080/"
        },
        "outputId": "fa275b5d-52db-4ab8-f9a7-99ac2d8f5ecb"
      },
      "outputs": [
        {
          "output_type": "stream",
          "name": "stderr",
          "text": [
            "[Parallel(n_jobs=2)]: Using backend LokyBackend with 2 concurrent workers.\n",
            "[Parallel(n_jobs=2)]: Done   5 out of   5 | elapsed:    0.1s finished\n"
          ]
        },
        {
          "output_type": "execute_result",
          "data": {
            "text/plain": [
              "{'fit_time': array([0.0164206 , 0.00426745, 0.01551318, 0.00846267, 0.00465202]),\n",
              " 'score_time': array([0.00144005, 0.00494909, 0.00151777, 0.00154686, 0.00134492]),\n",
              " 'test_score': array([1.        , 0.97222222, 0.94444444, 1.        , 1.        ])}"
            ]
          },
          "metadata": {},
          "execution_count": 119
        }
      ],
      "source": [
        "estimator = make_pipeline(StandardScaler(), SVC(kernel = 'rbf'))\n",
        "\n",
        "cross_validate(\n",
        "    estimator = estimator,\n",
        "    X = X, y = y,\n",
        "    cv = 5,\n",
        "    n_jobs = multiprocessing.cpu_count(),\n",
        "    verbose = True\n",
        ")"
      ]
    },
    {
      "cell_type": "code",
      "execution_count": 120,
      "metadata": {
        "id": "qYImAQwGNVHe",
        "colab": {
          "base_uri": "https://localhost:8080/"
        },
        "outputId": "3a25a41e-55f3-434d-f152-abab8766171b"
      },
      "outputs": [
        {
          "output_type": "stream",
          "name": "stdout",
          "text": [
            "Fitting 5 folds for each of 6 candidates, totalling 30 fits\n"
          ]
        },
        {
          "output_type": "execute_result",
          "data": {
            "text/plain": [
              "GridSearchCV(cv=5,\n",
              "             estimator=Pipeline(steps=[('scaler', StandardScaler()),\n",
              "                                       ('model', SVC())]),\n",
              "             n_jobs=2,\n",
              "             param_grid=[{'model__C': [1.0, 0.1, 0.01],\n",
              "                          'model__gamma': ['scale', 'auto']}],\n",
              "             verbose=True)"
            ]
          },
          "metadata": {},
          "execution_count": 120
        }
      ],
      "source": [
        "pipe = Pipeline([('scaler', StandardScaler()),\n",
        "                     ('model', SVC(kernel = 'rbf'))])\n",
        "\n",
        "param_grid = [{'model__gamma': ['scale', 'auto'],\n",
        "               'model__C': [1.0, 0.1, 0.01],}]\n",
        "\n",
        "gs = GridSearchCV(\n",
        "    estimator = pipe,\n",
        "    param_grid = param_grid,\n",
        "    n_jobs = multiprocessing.cpu_count(),\n",
        "    cv = 5,\n",
        "    verbose = True\n",
        ")\n",
        "\n",
        "gs.fit(X,y)"
      ]
    },
    {
      "cell_type": "code",
      "execution_count": 121,
      "metadata": {
        "id": "dtcVX-7xNVHe",
        "colab": {
          "base_uri": "https://localhost:8080/"
        },
        "outputId": "171f6453-9da6-4e78-c566-440bc62c32f5"
      },
      "outputs": [
        {
          "output_type": "execute_result",
          "data": {
            "text/plain": [
              "Pipeline(steps=[('scaler', StandardScaler()), ('model', SVC())])"
            ]
          },
          "metadata": {},
          "execution_count": 121
        }
      ],
      "source": [
        "gs.best_estimator_ #최적의 값들 알려줌"
      ]
    },
    {
      "cell_type": "code",
      "execution_count": 122,
      "metadata": {
        "id": "S2E9U5qaNVHe",
        "colab": {
          "base_uri": "https://localhost:8080/"
        },
        "outputId": "1820cd9c-aee3-4cd9-c351-2f13348303d8"
      },
      "outputs": [
        {
          "output_type": "stream",
          "name": "stdout",
          "text": [
            "학습 데이터 점수: 0.9929577464788732\n",
            "평가 데이터 점수: 0.9722222222222222\n"
          ]
        }
      ],
      "source": [
        "model = gs.best_estimator_\n",
        "model.fit(X_train, y_train)\n",
        "\n",
        "print(\"학습 데이터 점수: {}\".format(model.score(X_train, y_train)))\n",
        "print(\"평가 데이터 점수: {}\".format(model.score(X_test, y_test)))"
      ]
    }
  ],
  "metadata": {
    "colab": {
      "collapsed_sections": [],
      "name": "5. 서포트 벡터 머신(Support Vector Machines) edited.ipynb",
      "provenance": [],
      "toc_visible": true,
      "include_colab_link": true
    },
    "kernelspec": {
      "display_name": "Python 3",
      "name": "python3"
    }
  },
  "nbformat": 4,
  "nbformat_minor": 0
}